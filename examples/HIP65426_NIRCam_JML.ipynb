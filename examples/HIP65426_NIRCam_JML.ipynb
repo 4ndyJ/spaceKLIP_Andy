{
 "cells": [
  {
   "cell_type": "code",
   "execution_count": null,
   "id": "707e80ca",
   "metadata": {},
   "outputs": [],
   "source": [
    "# Import the usual libraries\n",
    "import numpy as np\n",
    "import matplotlib\n",
    "import matplotlib.pyplot as plt\n",
    "\n",
    "# Enable inline plotting at lower left\n",
    "%matplotlib inline"
   ]
  },
  {
   "cell_type": "code",
   "execution_count": null,
   "id": "902408bf",
   "metadata": {},
   "outputs": [],
   "source": [
    "import os\n",
    "\n",
    "# Progress bar\n",
    "from tqdm.auto import trange, tqdm\n",
    "\n",
    "from astropy.io import fits\n",
    "from webbpsf_ext import robust"
   ]
  },
  {
   "cell_type": "code",
   "execution_count": null,
   "id": "0c858785",
   "metadata": {},
   "outputs": [],
   "source": [
    "# Import the JWST class from spaceKLIP\n",
    "\n",
    "from spaceKLIP.engine import JWST"
   ]
  },
  {
   "cell_type": "code",
   "execution_count": null,
   "id": "3727c268",
   "metadata": {},
   "outputs": [],
   "source": [
    "# Provide config file, or 'template' to use existing template\n",
    "config_file = '/home/jarronl/GitHub/spaceKLIP/tests/HIP65426_NIRCam_JML.yaml'\n",
    "pipeline = JWST(config_file)"
   ]
  },
  {
   "cell_type": "code",
   "execution_count": null,
   "id": "9e926b0c",
   "metadata": {},
   "outputs": [],
   "source": [
    "# If desired, sort uncals files from MAST $JWSTDOWNLOAD_OUTDIR to SpaceKLIP directorys\n",
    "# Creates symbolic links\n",
    "pipeline.sort_files()"
   ]
  },
  {
   "cell_type": "code",
   "execution_count": null,
   "id": "279a3cba",
   "metadata": {},
   "outputs": [],
   "source": [
    "# Perform ramp fitting\n",
    "pipeline.rampfit()"
   ]
  },
  {
   "cell_type": "code",
   "execution_count": null,
   "id": "da7e3b82",
   "metadata": {},
   "outputs": [],
   "source": [
    "# Perform image processing\n",
    "pipeline.imgprocess()"
   ]
  },
  {
   "cell_type": "code",
   "execution_count": null,
   "id": "dbc6535c",
   "metadata": {},
   "outputs": [],
   "source": [
    "# Compare with no outlier correction\n",
    "pipeline.meta.outlier_corr = 'none'\n",
    "pipeline.imgprocess()"
   ]
  },
  {
   "cell_type": "code",
   "execution_count": null,
   "id": "fae486f4",
   "metadata": {},
   "outputs": [],
   "source": [
    "p1 = '/data/NIRData/MAST_proc/01386/HIP65426/F300M_MASK335R/IMGPROCESS/SCI+REF/'\n",
    "p2 = '/data/NIRData/MAST_proc/01386/HIP65426/F300M_MASK335R/IMGPROCESS/SCI+REF_CLEAN/'\n",
    "f = 'jw01386003001_03107_00001_nrcalong_calints.fits'\n",
    "hdul1 = fits.open(p1+f)\n",
    "hdul2 = fits.open(p2+f)"
   ]
  },
  {
   "cell_type": "code",
   "execution_count": null,
   "id": "6edee467",
   "metadata": {},
   "outputs": [],
   "source": [
    "fig, axes = plt.subplots(1,2, figsize=(14,7))\n",
    "\n",
    "im = hdul1[1].data[0]\n",
    "\n",
    "med = np.nanmedian(im)\n",
    "std = robust.medabsdev(im)\n",
    "vmin = med - 5*std\n",
    "vmax = med + 5*std\n",
    "\n",
    "ax = axes[0]\n",
    "ax.imshow(im, vmin=vmin, vmax=vmax)\n",
    "\n",
    "\n",
    "im = hdul2[1].data[0]\n",
    "\n",
    "med = np.nanmedian(im)\n",
    "std = robust.medabsdev(im)\n",
    "vmin = med - 5*std\n",
    "vmax = med + 5*std\n",
    "\n",
    "ax = axes[1]\n",
    "ax.imshow(im, vmin=vmin, vmax=vmax)\n",
    "\n",
    "\n",
    "fig.tight_layout()"
   ]
  },
  {
   "cell_type": "code",
   "execution_count": null,
   "id": "0f7c94c7",
   "metadata": {},
   "outputs": [],
   "source": [
    "# Perform PSF Subtraction\n",
    "pipeline.subtraction()"
   ]
  },
  {
   "cell_type": "code",
   "execution_count": null,
   "id": "d6a67169",
   "metadata": {},
   "outputs": [],
   "source": [
    "# Compute raw contrast\n",
    "pipeline.raw_contrast()"
   ]
  },
  {
   "cell_type": "code",
   "execution_count": null,
   "id": "e43c1e3a",
   "metadata": {},
   "outputs": [],
   "source": [
    "# Compute calibrated contrast\n",
    "pipeline.cal_contrast()"
   ]
  },
  {
   "cell_type": "code",
   "execution_count": null,
   "id": "06fa09eb",
   "metadata": {},
   "outputs": [],
   "source": [
    "# Extract companion photometry and astrometry\n",
    "pipeline.companion()"
   ]
  }
 ],
 "metadata": {
  "kernelspec": {
   "display_name": "Python 3 (ipykernel)",
   "language": "python",
   "name": "python3"
  },
  "language_info": {
   "codemirror_mode": {
    "name": "ipython",
    "version": 3
   },
   "file_extension": ".py",
   "mimetype": "text/x-python",
   "name": "python",
   "nbconvert_exporter": "python",
   "pygments_lexer": "ipython3",
   "version": "3.11.3"
  },
  "vscode": {
   "interpreter": {
    "hash": "0c722e76a0116de8be695efd303ddf25cdd25f64d0dcef8d3b7426326b876f7a"
   }
  }
 },
 "nbformat": 4,
 "nbformat_minor": 5
}
