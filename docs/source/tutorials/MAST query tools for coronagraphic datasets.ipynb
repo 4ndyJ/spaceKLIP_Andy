{
 "cells": [
  {
   "cell_type": "markdown",
   "id": "e0e954ad",
   "metadata": {},
   "source": [
    "# MAST query and download tools for coronagraphic datasets\n",
    "\n",
    "SpaceKLIP includes some simple query tools for searching available coronagraphic datasets in MAST. \n",
    "\n",
    "These are intended for, for instance, determining if there are PSF or background observations from other programs\n",
    "that may be useful in reducing a given science dataset. "
   ]
  },
  {
   "cell_type": "markdown",
   "id": "e94918b2",
   "metadata": {},
   "source": [
    "## Finding available PSF reference or background observations"
   ]
  },
  {
   "cell_type": "markdown",
   "id": "d1f8be17",
   "metadata": {},
   "source": [
    "Let's see what's available for NIRCam F356W. This returns a table of all observations, including science obs, PSF reference obs, and background obs (for MIRI). \n",
    "\n",
    "This output is a bit long; We'll show next how to filter that to particular kinds of data. "
   ]
  },
  {
   "cell_type": "code",
   "execution_count": 1,
   "id": "42af02a4",
   "metadata": {
    "scrolled": false
   },
   "outputs": [
    {
     "name": "stdout",
     "output_type": "stream",
     "text": [
      "Found 34 total rows. Here's the first few:\n"
     ]
    },
    {
     "data": {
      "text/html": [
       "<div><i>Table length=5</i>\n",
       "<table id=\"table11262186000\" class=\"table-striped table-bordered table-condensed\">\n",
       "<thead><tr><th>visit_id</th><th>start time</th><th>filter</th><th>coronmsk</th><th>targname</th><th>obslabel</th><th>duration</th><th>numdthpt</th><th>program</th><th>title</th><th>pi_name</th></tr></thead>\n",
       "<thead><tr><th>str12</th><th>str16</th><th>str5</th><th>str9</th><th>str22</th><th>str54</th><th>float64</th><th>int64</th><th>int64</th><th>str75</th><th>str20</th></tr></thead>\n",
       "<tr><td>V01386001001</td><td>2022-07-29 22:01</td><td>F356W</td><td>MASKA335R</td><td>* phi Cen</td><td>NIRCam 335R - REF</td><td>83.426</td><td>9</td><td>1386</td><td>High Contrast Imaging of Exoplanets and Exoplanetary Systems with JWST</td><td>Hinkley, Sasha</td></tr>\n",
       "<tr><td>V01386002001</td><td>2022-07-30 01:13</td><td>F356W</td><td>MASKA335R</td><td>HD 116434</td><td>NIRCam 335R - Roll 1</td><td>617.946</td><td>1</td><td>1386</td><td>High Contrast Imaging of Exoplanets and Exoplanetary Systems with JWST</td><td>Hinkley, Sasha</td></tr>\n",
       "<tr><td>V01386003001</td><td>2022-07-30 03:16</td><td>F356W</td><td>MASKA335R</td><td>HD 116434</td><td>NIRCam 335R - Roll 2</td><td>617.946</td><td>1</td><td>1386</td><td>High Contrast Imaging of Exoplanets and Exoplanetary Systems with JWST</td><td>Hinkley, Sasha</td></tr>\n",
       "<tr><td>V01184015001</td><td>2022-09-06 00:00</td><td>F356W</td><td>MASKA335R</td><td>LP 944-20</td><td>LP 944-20 roll 1</td><td>846.844</td><td>1</td><td>1184</td><td>A NIRCam Coronagraphic Imaging Survey of Nearby Young M Dwarfs</td><td>Schlieder, Joshua</td></tr>\n",
       "<tr><td>V01184016001</td><td>2022-09-06 01:43</td><td>F356W</td><td>MASKA335R</td><td>LP 944-20</td><td>LP 944-20 roll 2</td><td>846.844</td><td>1</td><td>1184</td><td>A NIRCam Coronagraphic Imaging Survey of Nearby Young M Dwarfs</td><td>Schlieder, Joshua</td></tr>\n",
       "</table></div>"
      ],
      "text/plain": [
       "<Table length=5>\n",
       "  visit_id      start time    filter  coronmsk  targname       obslabel       duration numdthpt program                                 title                                       pi_name     \n",
       "   str12          str16        str5     str9     str22          str54         float64   int64    int64                                  str75                                        str20      \n",
       "------------ ---------------- ------ --------- --------- -------------------- -------- -------- ------- ---------------------------------------------------------------------- -----------------\n",
       "V01386001001 2022-07-29 22:01  F356W MASKA335R * phi Cen    NIRCam 335R - REF   83.426        9    1386 High Contrast Imaging of Exoplanets and Exoplanetary Systems with JWST    Hinkley, Sasha\n",
       "V01386002001 2022-07-30 01:13  F356W MASKA335R HD 116434 NIRCam 335R - Roll 1  617.946        1    1386 High Contrast Imaging of Exoplanets and Exoplanetary Systems with JWST    Hinkley, Sasha\n",
       "V01386003001 2022-07-30 03:16  F356W MASKA335R HD 116434 NIRCam 335R - Roll 2  617.946        1    1386 High Contrast Imaging of Exoplanets and Exoplanetary Systems with JWST    Hinkley, Sasha\n",
       "V01184015001 2022-09-06 00:00  F356W MASKA335R LP 944-20     LP 944-20 roll 1  846.844        1    1184         A NIRCam Coronagraphic Imaging Survey of Nearby Young M Dwarfs Schlieder, Joshua\n",
       "V01184016001 2022-09-06 01:43  F356W MASKA335R LP 944-20     LP 944-20 roll 2  846.844        1    1184         A NIRCam Coronagraphic Imaging Survey of Nearby Young M Dwarfs Schlieder, Joshua"
      ]
     },
     "execution_count": 1,
     "metadata": {},
     "output_type": "execute_result"
    }
   ],
   "source": [
    "import spaceKLIP\n",
    "\n",
    "table = spaceKLIP.mast.query_coron_datasets('NIRCam', 'F356W')\n",
    "\n",
    "print(f\"Found {len(table)} total rows. Here's the first few:\")\n",
    "table[:5]"
   ]
  },
  {
   "cell_type": "markdown",
   "id": "75eb3377",
   "metadata": {},
   "source": [
    "The columns in the above provide information on the observation overall (visit number, date and time, instrument settings, etc), the target and observation label, the duration in seconds and number of dither points used, and which APT program these data are from. \n",
    "\n",
    "\n",
    "Let's see what PSF references are available in MIRI F1550C. "
   ]
  },
  {
   "cell_type": "code",
   "execution_count": 2,
   "id": "24711344",
   "metadata": {},
   "outputs": [
    {
     "data": {
      "text/html": [
       "<div><i>Table length=15</i>\n",
       "<table id=\"table11262530128\" class=\"table-striped table-bordered table-condensed\">\n",
       "<thead><tr><th>visit_id</th><th>start time</th><th>filter</th><th>coronmsk</th><th>targname</th><th>obslabel</th><th>duration</th><th>numdthpt</th><th>program</th><th>title</th><th>pi_name</th></tr></thead>\n",
       "<thead><tr><th>str12</th><th>str16</th><th>str6</th><th>str9</th><th>str23</th><th>str42</th><th>float64</th><th>int64</th><th>int64</th><th>str80</th><th>str21</th></tr></thead>\n",
       "<tr><td>V01045069001</td><td>2022-06-13 17:35</td><td>F1550C</td><td>4QPM_1550</td><td>HD 92209</td><td>4QPM - F1550C</td><td>774.406</td><td>9</td><td>1045</td><td>MIRI Coronagraphic PSF Characterization, Radial Transmission and 4QPM Transition</td><td>Dicken, Daniel</td></tr>\n",
       "<tr><td>V01037010001</td><td>2022-06-18 15:04</td><td>F1550C</td><td>4QPM_1550</td><td>HD 163113</td><td>4QPM - F1550C</td><td>2299.49</td><td>9</td><td>1037</td><td>MIRI Coronagraphic Contrast Ratios</td><td>Boccaletti, Anthony</td></tr>\n",
       "<tr><td>V01037011001</td><td>2022-06-18 21:13</td><td>F1550C</td><td>4QPM_1550</td><td>HD 162989</td><td>Ref 1 deg F1550C</td><td>2299.49</td><td>9</td><td>1037</td><td>MIRI Coronagraphic Contrast Ratios</td><td>Boccaletti, Anthony</td></tr>\n",
       "<tr><td>V01386007001</td><td>2022-07-17 20:48</td><td>F1550C</td><td>4QPM_1550</td><td>* phi Cen</td><td>MIRI 1550C - REF</td><td>459.706</td><td>9</td><td>1386</td><td>High Contrast Imaging of Exoplanets and Exoplanetary Systems with JWST</td><td>Hinkley, Sasha</td></tr>\n",
       "<tr><td>V01045088001</td><td>2022-07-19 10:02</td><td>F1550C</td><td>4QPM_1550</td><td>HD 92209</td><td>4QPM - F1550C</td><td>2299.49</td><td>5</td><td>1045</td><td>MIRI Coronagraphic PSF Characterization, Radial Transmission and 4QPM Transition</td><td>Dicken, Daniel</td></tr>\n",
       "<tr><td>V01386027001</td><td>2022-08-02 17:02</td><td>F1550C</td><td>4QPM_1550</td><td>HD 140986</td><td>MIRI F1550C - REF</td><td>1726.894</td><td>5</td><td>1386</td><td>High Contrast Imaging of Exoplanets and Exoplanetary Systems with JWST</td><td>Hinkley, Sasha</td></tr>\n",
       "<tr><td>V01193004001</td><td>2022-10-21 18:48</td><td>F1550C</td><td>4QPM_1550</td><td>* 19 PsA</td><td>FomalhautPSF-1550C</td><td>202.29</td><td>9</td><td>1193</td><td>Coronagraphic Imaging of Young Planets and Debris Disk with NIRCam and MIRI</td><td>Beichman, Charles A.</td></tr>\n",
       "<tr><td>V01194016001</td><td>2022-11-08 15:17</td><td>F1550C</td><td>4QPM_1550</td><td>HD 218261</td><td>REF 1550C</td><td>239.92</td><td>9</td><td>1194</td><td>Characterization of the HR 8799 planetary system and planet search</td><td>Beichman, Charles A.</td></tr>\n",
       "<tr><td>V01411008001</td><td>2022-12-13 08:54</td><td>F1550C</td><td>4QPM_1550</td><td>* alf Pic</td><td>Alpha Pic - 1550 4QPM PSF</td><td>725.991</td><td>5</td><td>1411</td><td>Coronagraphy of the Debris Disk Archetype Beta Pictoris</td><td>Stark, Chris</td></tr>\n",
       "<tr><td>V01241041001</td><td>2023-03-10 19:02</td><td>F1550C</td><td>4QPM_1550</td><td>HD 49518</td><td>Ref HR 2562 - F1550C</td><td>357.123</td><td>5</td><td>1241</td><td>MIRI Coronagraphic Imaging of exoplanets</td><td>Ressler, Michael E.</td></tr>\n",
       "<tr><td>V02243006001</td><td>2023-07-03 14:08</td><td>F1550C</td><td>4QPM_1550</td><td>V* DI Tuc</td><td>DITuc F1550C</td><td>2724.443</td><td>5</td><td>2243</td><td>A direct detection of the closest Jupiter analog with JWST/MIRI</td><td>Matthews, Elisabeth C</td></tr>\n",
       "<tr><td>V01413009001</td><td>2023-07-15 22:40</td><td>F1550C</td><td>4QPM_1550</td><td>HD 190360</td><td>HD 190360 F1550 (PSF star)</td><td>293.848</td><td>9</td><td>1413</td><td>MIRI coronagraphy of the Cold Substellar Companion GJ 758 B</td><td>Pueyo, Laurent</td></tr>\n",
       "<tr><td>V01618007001</td><td>2023-07-27 04:34</td><td>F1550C</td><td>4QPM_1550</td><td>dr3-5859405804986931200</td><td>offset star for eps Mus. Position A. Obs 2</td><td>2971.792</td><td>9</td><td>1618</td><td>Searching Our  Closest Stellar  Neighbor for Planets and Zodiacal Emission</td><td>Beichman, Charles A.</td></tr>\n",
       "<tr><td>V01193024001</td><td>2023-08-18 21:39</td><td>F1550C</td><td>4QPM_1550</td><td>HD 169305</td><td>VegaPSF-1550C</td><td>206.844</td><td>9</td><td>1193</td><td>Coronagraphic Imaging of Young Planets and Debris Disk with NIRCam and MIRI</td><td>Beichman, Charles A.</td></tr>\n",
       "<tr><td>V01241021001</td><td>2023-09-19 14:11</td><td>F1550C</td><td>4QPM_1550</td><td>HD 222389</td><td>Ref kappa And - F1550C</td><td>199.653</td><td>5</td><td>1241</td><td>MIRI Coronagraphic Imaging of exoplanets</td><td>Ressler, Michael E.</td></tr>\n",
       "</table></div>"
      ],
      "text/plain": [
       "<Table length=15>\n",
       "  visit_id      start time    filter  coronmsk         targname        ... duration numdthpt program                                      title                                              pi_name       \n",
       "   str12          str16        str6     str9            str23          ... float64   int64    int64                                       str80                                               str21        \n",
       "------------ ---------------- ------ --------- ----------------------- ... -------- -------- ------- -------------------------------------------------------------------------------- ---------------------\n",
       "V01045069001 2022-06-13 17:35 F1550C 4QPM_1550                HD 92209 ...  774.406        9    1045 MIRI Coronagraphic PSF Characterization, Radial Transmission and 4QPM Transition        Dicken, Daniel\n",
       "V01037010001 2022-06-18 15:04 F1550C 4QPM_1550               HD 163113 ...  2299.49        9    1037                                               MIRI Coronagraphic Contrast Ratios   Boccaletti, Anthony\n",
       "V01037011001 2022-06-18 21:13 F1550C 4QPM_1550               HD 162989 ...  2299.49        9    1037                                               MIRI Coronagraphic Contrast Ratios   Boccaletti, Anthony\n",
       "V01386007001 2022-07-17 20:48 F1550C 4QPM_1550               * phi Cen ...  459.706        9    1386           High Contrast Imaging of Exoplanets and Exoplanetary Systems with JWST        Hinkley, Sasha\n",
       "V01045088001 2022-07-19 10:02 F1550C 4QPM_1550                HD 92209 ...  2299.49        5    1045 MIRI Coronagraphic PSF Characterization, Radial Transmission and 4QPM Transition        Dicken, Daniel\n",
       "V01386027001 2022-08-02 17:02 F1550C 4QPM_1550               HD 140986 ... 1726.894        5    1386           High Contrast Imaging of Exoplanets and Exoplanetary Systems with JWST        Hinkley, Sasha\n",
       "V01193004001 2022-10-21 18:48 F1550C 4QPM_1550                * 19 PsA ...   202.29        9    1193      Coronagraphic Imaging of Young Planets and Debris Disk with NIRCam and MIRI  Beichman, Charles A.\n",
       "V01194016001 2022-11-08 15:17 F1550C 4QPM_1550               HD 218261 ...   239.92        9    1194               Characterization of the HR 8799 planetary system and planet search  Beichman, Charles A.\n",
       "V01411008001 2022-12-13 08:54 F1550C 4QPM_1550               * alf Pic ...  725.991        5    1411                          Coronagraphy of the Debris Disk Archetype Beta Pictoris          Stark, Chris\n",
       "V01241041001 2023-03-10 19:02 F1550C 4QPM_1550                HD 49518 ...  357.123        5    1241                                         MIRI Coronagraphic Imaging of exoplanets   Ressler, Michael E.\n",
       "V02243006001 2023-07-03 14:08 F1550C 4QPM_1550               V* DI Tuc ... 2724.443        5    2243                  A direct detection of the closest Jupiter analog with JWST/MIRI Matthews, Elisabeth C\n",
       "V01413009001 2023-07-15 22:40 F1550C 4QPM_1550               HD 190360 ...  293.848        9    1413                      MIRI coronagraphy of the Cold Substellar Companion GJ 758 B        Pueyo, Laurent\n",
       "V01618007001 2023-07-27 04:34 F1550C 4QPM_1550 dr3-5859405804986931200 ... 2971.792        9    1618       Searching Our  Closest Stellar  Neighbor for Planets and Zodiacal Emission  Beichman, Charles A.\n",
       "V01193024001 2023-08-18 21:39 F1550C 4QPM_1550               HD 169305 ...  206.844        9    1193      Coronagraphic Imaging of Young Planets and Debris Disk with NIRCam and MIRI  Beichman, Charles A.\n",
       "V01241021001 2023-09-19 14:11 F1550C 4QPM_1550               HD 222389 ...  199.653        5    1241                                         MIRI Coronagraphic Imaging of exoplanets   Ressler, Michael E."
      ]
     },
     "execution_count": 2,
     "metadata": {},
     "output_type": "execute_result"
    }
   ],
   "source": [
    "spaceKLIP.mast.query_coron_datasets('MIRI', 'F1550C', kind='REF')"
   ]
  },
  {
   "cell_type": "markdown",
   "id": "ad784879",
   "metadata": {},
   "source": [
    "And similarly for background observations:"
   ]
  },
  {
   "cell_type": "code",
   "execution_count": 3,
   "id": "3536a7e8",
   "metadata": {},
   "outputs": [
    {
     "data": {
      "text/html": [
       "<div><i>Table length=27</i>\n",
       "<table id=\"table11262328784\" class=\"table-striped table-bordered table-condensed\">\n",
       "<thead><tr><th>visit_id</th><th>start time</th><th>filter</th><th>coronmsk</th><th>targname</th><th>obslabel</th><th>duration</th><th>numdthpt</th><th>program</th><th>title</th><th>pi_name</th></tr></thead>\n",
       "<thead><tr><th>str12</th><th>str16</th><th>str6</th><th>str9</th><th>str21</th><th>str37</th><th>float64</th><th>int64</th><th>int64</th><th>str91</th><th>str22</th></tr></thead>\n",
       "<tr><td>V01386030001</td><td>2022-07-18 02:42</td><td>F1550C</td><td>4QPM_1550</td><td>N/A</td><td>MIRI 1550C - Target BG</td><td>3609.341</td><td>1</td><td>1386</td><td>High Contrast Imaging of Exoplanets and Exoplanetary Systems with JWST</td><td>Hinkley, Sasha</td></tr>\n",
       "<tr><td>V01386031001</td><td>2022-07-18 04:53</td><td>F1550C</td><td>4QPM_1550</td><td>N/A</td><td>MIRI 1550C - REF BG</td><td>459.706</td><td>1</td><td>1386</td><td>High Contrast Imaging of Exoplanets and Exoplanetary Systems with JWST</td><td>Hinkley, Sasha</td></tr>\n",
       "<tr><td>V01386036001</td><td>2022-08-02 19:57</td><td>F1550C</td><td>4QPM_1550</td><td>N/A</td><td>MIRI F1550C - Target BG</td><td>3741.884</td><td>1</td><td>1386</td><td>High Contrast Imaging of Exoplanets and Exoplanetary Systems with JWST</td><td>Hinkley, Sasha</td></tr>\n",
       "<tr><td>V01386037001</td><td>2022-08-02 22:29</td><td>F1550C</td><td>4QPM_1550</td><td>N/A</td><td>MIRI F1550C - REF BG</td><td>1726.894</td><td>1</td><td>1386</td><td>High Contrast Imaging of Exoplanets and Exoplanetary Systems with JWST</td><td>Hinkley, Sasha</td></tr>\n",
       "<tr><td>V01193005001</td><td>2022-10-21 19:43</td><td>F1550C</td><td>4QPM_1550</td><td>* 19 PsA</td><td>FomalhautPSF-1550C-background</td><td>202.29</td><td>1</td><td>1193</td><td>Coronagraphic Imaging of Young Planets and Debris Disk with NIRCam and MIRI</td><td>Beichman, Charles A.</td></tr>\n",
       "<tr><td>V01193010001</td><td>2022-10-21 22:42</td><td>F1550C</td><td>4QPM_1550</td><td>FOMALHAUT-F1550C-BACK</td><td>Fomalhaut-F1550C-background</td><td>914.379</td><td>1</td><td>1193</td><td>Coronagraphic Imaging of Young Planets and Debris Disk with NIRCam and MIRI</td><td>Beichman, Charles A.</td></tr>\n",
       "<tr><td>V01194011001</td><td>2022-11-08 10:18</td><td>F1550C</td><td>4QPM_1550</td><td>N/A</td><td>1550C - Target Bkg</td><td>4322.629</td><td>2</td><td>1194</td><td>Characterization of the HR 8799 planetary system and planet search</td><td>Beichman, Charles A.</td></tr>\n",
       "<tr><td>V01194018001</td><td>2022-11-08 16:18</td><td>F1550C</td><td>4QPM_1550</td><td>N/A</td><td>1550C - REF Bkg</td><td>239.92</td><td>2</td><td>1194</td><td>Characterization of the HR 8799 planetary system and planet search</td><td>Beichman, Charles A.</td></tr>\n",
       "<tr><td>V01406030001</td><td>2022-11-29 05:12</td><td>F1550C</td><td>4QPM_1550</td><td>HD 161617</td><td>1550-BGND</td><td>508.122</td><td>2</td><td>1406</td><td>Verification of the MIRI Coronagraphic Target Acquisition</td><td>Hines, Dean C.</td></tr>\n",
       "<tr><td>V01411001001</td><td>2022-12-13 00:10</td><td>F1550C</td><td>4QPM_1550</td><td>N/A</td><td>Beta Pic Background - 1550 4QPM</td><td>1331.183</td><td>2</td><td>1411</td><td>Coronagraphy of the Debris Disk Archetype Beta Pictoris</td><td>Stark, Chris</td></tr>\n",
       "<tr><td>V01411009001</td><td>2022-12-13 10:17</td><td>F1550C</td><td>4QPM_1550</td><td>N/A</td><td>Alpha Pic Background - 1550 4QPM PSF</td><td>725.991</td><td>2</td><td>1411</td><td>Coronagraphy of the Debris Disk Archetype Beta Pictoris</td><td>Stark, Chris</td></tr>\n",
       "<tr><td>V01241033001</td><td>2023-03-10 15:05</td><td>F1550C</td><td>4QPM_1550</td><td>HR 2562 Background</td><td>HR 2562 Bckgr - F1550C</td><td>1199.119</td><td>2</td><td>1241</td><td>MIRI Coronagraphic Imaging of exoplanets</td><td>Ressler, Michael E.</td></tr>\n",
       "<tr><td>V01241044001</td><td>2023-03-10 20:22</td><td>F1550C</td><td>4QPM_1550</td><td>HD 49518 Background</td><td>Ref HR 2562 Bckgr - F1550C</td><td>357.123</td><td>2</td><td>1241</td><td>MIRI Coronagraphic Imaging of exoplanets</td><td>Ressler, Michael E.</td></tr>\n",
       "<tr><td>V01277021001</td><td>2023-05-16 20:26</td><td>F1550C</td><td>4QPM_1550</td><td>HD 106906 background</td><td>HD106906 Bkg 1500C</td><td>960.398</td><td>2</td><td>1277</td><td>Coronographic Observations of Young Exoplanets and Spectroscopic Observations of ROSS 458 C</td><td>Lagage, Pierre-Olivier</td></tr>\n",
       "<tr><td>V02243001001</td><td>2023-07-03 00:54</td><td>F1550C</td><td>4QPM_1550</td><td>N/A</td><td>BG_dituc F1550C</td><td>2724.443</td><td>2</td><td>2243</td><td>A direct detection of the closest Jupiter analog with JWST/MIRI</td><td>Matthews, Elisabeth C</td></tr>\n",
       "<tr><td>V02243002001</td><td>2023-07-03 03:33</td><td>F1550C</td><td>4QPM_1550</td><td>N/A</td><td>BG_epsindi F1550C</td><td>3922.363</td><td>2</td><td>2243</td><td>A direct detection of the closest Jupiter analog with JWST/MIRI</td><td>Matthews, Elisabeth C</td></tr>\n",
       "<tr><td>V01277016001</td><td>2023-07-04 12:41</td><td>F1550C</td><td>4QPM_1550</td><td>GJ 504 background</td><td>GJ504 Bkg 1550C</td><td>239.92</td><td>2</td><td>1277</td><td>Coronographic Observations of Young Exoplanets and Spectroscopic Observations of ROSS 458 C</td><td>Lagage, Pierre-Olivier</td></tr>\n",
       "<tr><td>V01413004001</td><td>2023-07-15 18:41</td><td>F1550C</td><td>4QPM_1550</td><td>GJ-758-Background</td><td>GJ 758 F1550 roll 1 BACKGROUND</td><td>864.046</td><td>2</td><td>1413</td><td>MIRI coronagraphy of the Cold Substellar Companion GJ 758 B</td><td>Pueyo, Laurent</td></tr>\n",
       "<tr><td>V01413010001</td><td>2023-07-15 23:49</td><td>F1550C</td><td>4QPM_1550</td><td>HD-190360-BACKGROUND</td><td>HD 190360 F1550 (PSF star) BACKGROUND</td><td>293.848</td><td>2</td><td>1413</td><td>MIRI coronagraphy of the Cold Substellar Companion GJ 758 B</td><td>Pueyo, Laurent</td></tr>\n",
       "<tr><td>V01618002001</td><td>2023-07-26 08:51</td><td>F1550C</td><td>4QPM_1550</td><td>N/A</td><td>eps Mus Position A  BACKGROUND</td><td>2971.792</td><td>2</td><td>1618</td><td>Searching Our  Closest Stellar  Neighbor for Planets and Zodiacal Emission</td><td>Beichman, Charles A.</td></tr>\n",
       "<tr><td>V01618004001</td><td>2023-07-26 14:18</td><td>F1550C</td><td>4QPM_1550</td><td>N/A</td><td>Alpha Cen A F1550 - BACKGROUND</td><td>9287.36</td><td>2</td><td>1618</td><td>Searching Our  Closest Stellar  Neighbor for Planets and Zodiacal Emission</td><td>Beichman, Charles A.</td></tr>\n",
       "<tr><td>V01618006001</td><td>2023-07-26 23:00</td><td>F1550C</td><td>4QPM_1550</td><td>N/A</td><td>Alpha Cen A F1550  - BACKGROUND</td><td>9287.36</td><td>2</td><td>1618</td><td>Searching Our  Closest Stellar  Neighbor for Planets and Zodiacal Emission</td><td>Beichman, Charles A.</td></tr>\n",
       "<tr><td>V01618008001</td><td>2023-07-27 12:52</td><td>F1550C</td><td>4QPM_1550</td><td>N/A</td><td>offset star for eps Mus.   BACKGROUND</td><td>2971.792</td><td>2</td><td>1618</td><td>Searching Our  Closest Stellar  Neighbor for Planets and Zodiacal Emission</td><td>Beichman, Charles A.</td></tr>\n",
       "<tr><td>V01193025001</td><td>2023-08-18 22:39</td><td>F1550C</td><td>4QPM_1550</td><td>HD 169305</td><td>VegaPSF-1550C-background</td><td>206.844</td><td>2</td><td>1193</td><td>Coronagraphic Imaging of Young Planets and Debris Disk with NIRCam and MIRI</td><td>Beichman, Charles A.</td></tr>\n",
       "<tr><td>V01193030001</td><td>2023-08-19 02:01</td><td>F1550C</td><td>4QPM_1550</td><td>VEGA-F1550C-BACK</td><td>Vega-1550C-background</td><td>915.817</td><td>2</td><td>1193</td><td>Coronagraphic Imaging of Young Planets and Debris Disk with NIRCam and MIRI</td><td>Beichman, Charles A.</td></tr>\n",
       "<tr><td>V01241013001</td><td>2023-09-19 10:25</td><td>F1550C</td><td>4QPM_1550</td><td>kappa And Background</td><td>kappa And Bckgr - F1550C</td><td>899.279</td><td>2</td><td>1241</td><td>MIRI Coronagraphic Imaging of exoplanets</td><td>Ressler, Michael E.</td></tr>\n",
       "<tr><td>V01241024001</td><td>2023-09-19 15:22</td><td>F1550C</td><td>4QPM_1550</td><td>HD 222389 Background</td><td>Ref kappa And Bckgr - F1550C</td><td>199.653</td><td>2</td><td>1241</td><td>MIRI Coronagraphic Imaging of exoplanets</td><td>Ressler, Michael E.</td></tr>\n",
       "</table></div>"
      ],
      "text/plain": [
       "<Table length=27>\n",
       "  visit_id      start time    filter  coronmsk        targname       ... duration numdthpt program                                            title                                                   pi_name        \n",
       "   str12          str16        str6     str9           str21         ... float64   int64    int64                                             str91                                                    str22         \n",
       "------------ ---------------- ------ --------- --------------------- ... -------- -------- ------- ------------------------------------------------------------------------------------------- ----------------------\n",
       "V01386030001 2022-07-18 02:42 F1550C 4QPM_1550                   N/A ... 3609.341        1    1386                      High Contrast Imaging of Exoplanets and Exoplanetary Systems with JWST         Hinkley, Sasha\n",
       "V01386031001 2022-07-18 04:53 F1550C 4QPM_1550                   N/A ...  459.706        1    1386                      High Contrast Imaging of Exoplanets and Exoplanetary Systems with JWST         Hinkley, Sasha\n",
       "V01386036001 2022-08-02 19:57 F1550C 4QPM_1550                   N/A ... 3741.884        1    1386                      High Contrast Imaging of Exoplanets and Exoplanetary Systems with JWST         Hinkley, Sasha\n",
       "V01386037001 2022-08-02 22:29 F1550C 4QPM_1550                   N/A ... 1726.894        1    1386                      High Contrast Imaging of Exoplanets and Exoplanetary Systems with JWST         Hinkley, Sasha\n",
       "V01193005001 2022-10-21 19:43 F1550C 4QPM_1550              * 19 PsA ...   202.29        1    1193                 Coronagraphic Imaging of Young Planets and Debris Disk with NIRCam and MIRI   Beichman, Charles A.\n",
       "V01193010001 2022-10-21 22:42 F1550C 4QPM_1550 FOMALHAUT-F1550C-BACK ...  914.379        1    1193                 Coronagraphic Imaging of Young Planets and Debris Disk with NIRCam and MIRI   Beichman, Charles A.\n",
       "V01194011001 2022-11-08 10:18 F1550C 4QPM_1550                   N/A ... 4322.629        2    1194                          Characterization of the HR 8799 planetary system and planet search   Beichman, Charles A.\n",
       "V01194018001 2022-11-08 16:18 F1550C 4QPM_1550                   N/A ...   239.92        2    1194                          Characterization of the HR 8799 planetary system and planet search   Beichman, Charles A.\n",
       "V01406030001 2022-11-29 05:12 F1550C 4QPM_1550             HD 161617 ...  508.122        2    1406                                   Verification of the MIRI Coronagraphic Target Acquisition         Hines, Dean C.\n",
       "V01411001001 2022-12-13 00:10 F1550C 4QPM_1550                   N/A ... 1331.183        2    1411                                     Coronagraphy of the Debris Disk Archetype Beta Pictoris           Stark, Chris\n",
       "V01411009001 2022-12-13 10:17 F1550C 4QPM_1550                   N/A ...  725.991        2    1411                                     Coronagraphy of the Debris Disk Archetype Beta Pictoris           Stark, Chris\n",
       "V01241033001 2023-03-10 15:05 F1550C 4QPM_1550    HR 2562 Background ... 1199.119        2    1241                                                    MIRI Coronagraphic Imaging of exoplanets    Ressler, Michael E.\n",
       "V01241044001 2023-03-10 20:22 F1550C 4QPM_1550   HD 49518 Background ...  357.123        2    1241                                                    MIRI Coronagraphic Imaging of exoplanets    Ressler, Michael E.\n",
       "V01277021001 2023-05-16 20:26 F1550C 4QPM_1550  HD 106906 background ...  960.398        2    1277 Coronographic Observations of Young Exoplanets and Spectroscopic Observations of ROSS 458 C Lagage, Pierre-Olivier\n",
       "V02243001001 2023-07-03 00:54 F1550C 4QPM_1550                   N/A ... 2724.443        2    2243                             A direct detection of the closest Jupiter analog with JWST/MIRI  Matthews, Elisabeth C\n",
       "V02243002001 2023-07-03 03:33 F1550C 4QPM_1550                   N/A ... 3922.363        2    2243                             A direct detection of the closest Jupiter analog with JWST/MIRI  Matthews, Elisabeth C\n",
       "V01277016001 2023-07-04 12:41 F1550C 4QPM_1550     GJ 504 background ...   239.92        2    1277 Coronographic Observations of Young Exoplanets and Spectroscopic Observations of ROSS 458 C Lagage, Pierre-Olivier\n",
       "V01413004001 2023-07-15 18:41 F1550C 4QPM_1550     GJ-758-Background ...  864.046        2    1413                                 MIRI coronagraphy of the Cold Substellar Companion GJ 758 B         Pueyo, Laurent\n",
       "V01413010001 2023-07-15 23:49 F1550C 4QPM_1550  HD-190360-BACKGROUND ...  293.848        2    1413                                 MIRI coronagraphy of the Cold Substellar Companion GJ 758 B         Pueyo, Laurent\n",
       "V01618002001 2023-07-26 08:51 F1550C 4QPM_1550                   N/A ... 2971.792        2    1618                  Searching Our  Closest Stellar  Neighbor for Planets and Zodiacal Emission   Beichman, Charles A.\n",
       "V01618004001 2023-07-26 14:18 F1550C 4QPM_1550                   N/A ...  9287.36        2    1618                  Searching Our  Closest Stellar  Neighbor for Planets and Zodiacal Emission   Beichman, Charles A.\n",
       "V01618006001 2023-07-26 23:00 F1550C 4QPM_1550                   N/A ...  9287.36        2    1618                  Searching Our  Closest Stellar  Neighbor for Planets and Zodiacal Emission   Beichman, Charles A.\n",
       "V01618008001 2023-07-27 12:52 F1550C 4QPM_1550                   N/A ... 2971.792        2    1618                  Searching Our  Closest Stellar  Neighbor for Planets and Zodiacal Emission   Beichman, Charles A.\n",
       "V01193025001 2023-08-18 22:39 F1550C 4QPM_1550             HD 169305 ...  206.844        2    1193                 Coronagraphic Imaging of Young Planets and Debris Disk with NIRCam and MIRI   Beichman, Charles A.\n",
       "V01193030001 2023-08-19 02:01 F1550C 4QPM_1550      VEGA-F1550C-BACK ...  915.817        2    1193                 Coronagraphic Imaging of Young Planets and Debris Disk with NIRCam and MIRI   Beichman, Charles A.\n",
       "V01241013001 2023-09-19 10:25 F1550C 4QPM_1550  kappa And Background ...  899.279        2    1241                                                    MIRI Coronagraphic Imaging of exoplanets    Ressler, Michael E.\n",
       "V01241024001 2023-09-19 15:22 F1550C 4QPM_1550  HD 222389 Background ...  199.653        2    1241                                                    MIRI Coronagraphic Imaging of exoplanets    Ressler, Michael E."
      ]
     },
     "execution_count": 3,
     "metadata": {},
     "output_type": "execute_result"
    }
   ],
   "source": [
    "spaceKLIP.mast.query_coron_datasets('MIRI', 'F1550C', kind='BKG')"
   ]
  },
  {
   "cell_type": "markdown",
   "id": "cf8b3634",
   "metadata": {},
   "source": [
    "### Available search keywords"
   ]
  },
  {
   "cell_type": "markdown",
   "id": "ac9739dd",
   "metadata": {},
   "source": [
    "You can also query by program ID number, filter, coronagraph mask name, and for NIRCam also channel name SW/LW."
   ]
  },
  {
   "cell_type": "code",
   "execution_count": 4,
   "id": "949560b2",
   "metadata": {},
   "outputs": [
    {
     "data": {
      "text/html": [
       "<div><i>Table length=2</i>\n",
       "<table id=\"table11189744208\" class=\"table-striped table-bordered table-condensed\">\n",
       "<thead><tr><th>visit_id</th><th>start time</th><th>filter</th><th>coronmsk</th><th>targname</th><th>obslabel</th><th>duration</th><th>numdthpt</th><th>program</th><th>title</th><th>pi_name</th></tr></thead>\n",
       "<thead><tr><th>str12</th><th>str16</th><th>str5</th><th>str9</th><th>str9</th><th>str20</th><th>float64</th><th>int64</th><th>int64</th><th>str70</th><th>str14</th></tr></thead>\n",
       "<tr><td>V01386002001</td><td>2022-07-30 01:13</td><td>F444W</td><td>MASKA335R</td><td>HD 116434</td><td>NIRCam 335R - Roll 1</td><td>617.946</td><td>1</td><td>1386</td><td>High Contrast Imaging of Exoplanets and Exoplanetary Systems with JWST</td><td>Hinkley, Sasha</td></tr>\n",
       "<tr><td>V01386003001</td><td>2022-07-30 03:16</td><td>F444W</td><td>MASKA335R</td><td>HD 116434</td><td>NIRCam 335R - Roll 2</td><td>617.946</td><td>1</td><td>1386</td><td>High Contrast Imaging of Exoplanets and Exoplanetary Systems with JWST</td><td>Hinkley, Sasha</td></tr>\n",
       "</table></div>"
      ],
      "text/plain": [
       "<Table length=2>\n",
       "  visit_id      start time    filter  coronmsk  targname       obslabel       duration numdthpt program                                 title                                     pi_name    \n",
       "   str12          str16        str5     str9      str9          str20         float64   int64    int64                                  str70                                      str14     \n",
       "------------ ---------------- ------ --------- --------- -------------------- -------- -------- ------- ---------------------------------------------------------------------- --------------\n",
       "V01386002001 2022-07-30 01:13  F444W MASKA335R HD 116434 NIRCam 335R - Roll 1  617.946        1    1386 High Contrast Imaging of Exoplanets and Exoplanetary Systems with JWST Hinkley, Sasha\n",
       "V01386003001 2022-07-30 03:16  F444W MASKA335R HD 116434 NIRCam 335R - Roll 2  617.946        1    1386 High Contrast Imaging of Exoplanets and Exoplanetary Systems with JWST Hinkley, Sasha"
      ]
     },
     "execution_count": 4,
     "metadata": {},
     "output_type": "execute_result"
    }
   ],
   "source": [
    "spaceKLIP.mast.query_coron_datasets('NIRCam', program=1386, filt='F444W', kind='SCI')"
   ]
  },
  {
   "cell_type": "markdown",
   "id": "403e6350",
   "metadata": {},
   "source": [
    "## Retrieving filenames"
   ]
  },
  {
   "cell_type": "markdown",
   "id": "f78cb94b",
   "metadata": {},
   "source": [
    "Note that the above by default *does not return filenames*, nor indeed individual exposures. Each row summarizes one observation, even though there are often multiple dithered exposures per observation. \n",
    "\n",
    "Set the `return_filenames` option to return filenames. This will also return more exhaustive metadata in additional table columns as well, compared to the default shorter summary output. \n"
   ]
  },
  {
   "cell_type": "code",
   "execution_count": 7,
   "id": "5d9315e8",
   "metadata": {},
   "outputs": [
    {
     "data": {
      "text/html": [
       "<div><i>Table masked=True length=2</i>\n",
       "<table id=\"table11268839568\" class=\"table-striped table-bordered table-condensed\">\n",
       "<thead><tr><th>filename</th><th>productLevel</th><th>kind</th><th>filter</th><th>coronmsk</th><th>targname</th><th>duration</th><th>effexptm</th><th>effinttm</th><th>exp_type</th><th>bkgdtarg</th><th>bstrtime</th><th>is_psf</th><th>nexposur</th><th>nframes</th><th>nints</th><th>numdthpt</th><th>obs_id</th><th>obslabel</th><th>pi_name</th><th>program</th><th>subarray</th><th>template</th><th>title</th><th>visit_id</th><th>visitsta</th><th>vststart_mjd</th><th>isRestricted</th></tr></thead>\n",
       "<thead><tr><th>str47</th><th>str2</th><th>bytes3</th><th>str5</th><th>str9</th><th>str9</th><th>float64</th><th>float64</th><th>float64</th><th>str9</th><th>str1</th><th>float64</th><th>str1</th><th>int64</th><th>int64</th><th>int64</th><th>int64</th><th>str26</th><th>str20</th><th>str14</th><th>int64</th><th>str11</th><th>str28</th><th>str70</th><th>str12</th><th>str10</th><th>float64</th><th>bool</th></tr></thead>\n",
       "<tr><td>jw01386002001_0310a_00001_nrcalong_calints.fits</td><td>2b</td><td>SCI</td><td>F444W</td><td>MASKA335R</td><td>HD 116434</td><td>617.946</td><td>615.767</td><td>307.88352</td><td>NRC_CORON</td><td>f</td><td>59790.1298299529</td><td>f</td><td>8</td><td>8</td><td>2</td><td>1</td><td>V01386002001P000000000310A</td><td>NIRCam 335R - Roll 1</td><td>Hinkley, Sasha</td><td>1386</td><td>SUB320A335R</td><td>NIRCam Coronagraphic Imaging</td><td>High Contrast Imaging of Exoplanets and Exoplanetary Systems with JWST</td><td>V01386002001</td><td>SUCCESSFUL</td><td>59790.05121913194</td><td>False</td></tr>\n",
       "<tr><td>jw01386003001_0310a_00001_nrcalong_calints.fits</td><td>2b</td><td>SCI</td><td>F444W</td><td>MASKA335R</td><td>HD 116434</td><td>617.946</td><td>615.767</td><td>307.88352</td><td>NRC_CORON</td><td>f</td><td>59790.21375087909</td><td>f</td><td>8</td><td>8</td><td>2</td><td>1</td><td>V01386003001P000000000310A</td><td>NIRCam 335R - Roll 2</td><td>Hinkley, Sasha</td><td>1386</td><td>SUB320A335R</td><td>NIRCam Coronagraphic Imaging</td><td>High Contrast Imaging of Exoplanets and Exoplanetary Systems with JWST</td><td>V01386003001</td><td>SUCCESSFUL</td><td>59790.13650497685</td><td>False</td></tr>\n",
       "</table></div>"
      ],
      "text/plain": [
       "<Table masked=True length=2>\n",
       "                    filename                    productLevel  kind  filter  coronmsk ...                                 title                                    visit_id    visitsta     vststart_mjd   isRestricted\n",
       "                     str47                          str2     bytes3  str5     str9   ...                                 str70                                     str12       str10         float64          bool    \n",
       "----------------------------------------------- ------------ ------ ------ --------- ... ---------------------------------------------------------------------- ------------ ---------- ----------------- ------------\n",
       "jw01386002001_0310a_00001_nrcalong_calints.fits           2b    SCI  F444W MASKA335R ... High Contrast Imaging of Exoplanets and Exoplanetary Systems with JWST V01386002001 SUCCESSFUL 59790.05121913194        False\n",
       "jw01386003001_0310a_00001_nrcalong_calints.fits           2b    SCI  F444W MASKA335R ... High Contrast Imaging of Exoplanets and Exoplanetary Systems with JWST V01386003001 SUCCESSFUL 59790.13650497685        False"
      ]
     },
     "execution_count": 7,
     "metadata": {},
     "output_type": "execute_result"
    }
   ],
   "source": [
    "spaceKLIP.mast.query_coron_datasets('NIRCam', program=1386, filt='F444W', kind='SCI', return_filenames=True)"
   ]
  },
  {
   "cell_type": "markdown",
   "id": "c3e97d30",
   "metadata": {},
   "source": [
    "Set the `level` option to `uncal` or `rate` if you want the filenames for those data products instead. "
   ]
  },
  {
   "cell_type": "code",
   "execution_count": 8,
   "id": "56fa7627",
   "metadata": {},
   "outputs": [
    {
     "data": {
      "text/html": [
       "<div><i>Table masked=True length=2</i>\n",
       "<table id=\"table11267853264\" class=\"table-striped table-bordered table-condensed\">\n",
       "<thead><tr><th>filename</th><th>productLevel</th><th>kind</th><th>filter</th><th>coronmsk</th><th>targname</th><th>duration</th><th>effexptm</th><th>effinttm</th><th>exp_type</th><th>bkgdtarg</th><th>bstrtime</th><th>is_psf</th><th>nexposur</th><th>nframes</th><th>nints</th><th>numdthpt</th><th>obs_id</th><th>obslabel</th><th>pi_name</th><th>program</th><th>subarray</th><th>template</th><th>title</th><th>visit_id</th><th>visitsta</th><th>vststart_mjd</th><th>isRestricted</th></tr></thead>\n",
       "<thead><tr><th>str45</th><th>str2</th><th>bytes3</th><th>str5</th><th>str9</th><th>str9</th><th>float64</th><th>float64</th><th>float64</th><th>str9</th><th>str1</th><th>float64</th><th>str1</th><th>int64</th><th>int64</th><th>int64</th><th>int64</th><th>str26</th><th>str20</th><th>str14</th><th>int64</th><th>str11</th><th>str28</th><th>str70</th><th>str12</th><th>str10</th><th>float64</th><th>bool</th></tr></thead>\n",
       "<tr><td>jw01386002001_0310a_00001_nrcalong_uncal.fits</td><td>1b</td><td>SCI</td><td>F444W</td><td>MASKA335R</td><td>HD 116434</td><td>617.946</td><td>615.767</td><td>307.88352</td><td>NRC_CORON</td><td>f</td><td>59790.1298299529</td><td>f</td><td>8</td><td>8</td><td>2</td><td>1</td><td>V01386002001P000000000310A</td><td>NIRCam 335R - Roll 1</td><td>Hinkley, Sasha</td><td>1386</td><td>SUB320A335R</td><td>NIRCam Coronagraphic Imaging</td><td>High Contrast Imaging of Exoplanets and Exoplanetary Systems with JWST</td><td>V01386002001</td><td>SUCCESSFUL</td><td>59790.05121913194</td><td>False</td></tr>\n",
       "<tr><td>jw01386003001_0310a_00001_nrcalong_uncal.fits</td><td>1b</td><td>SCI</td><td>F444W</td><td>MASKA335R</td><td>HD 116434</td><td>617.946</td><td>615.767</td><td>307.88352</td><td>NRC_CORON</td><td>f</td><td>59790.21375087909</td><td>f</td><td>8</td><td>8</td><td>2</td><td>1</td><td>V01386003001P000000000310A</td><td>NIRCam 335R - Roll 2</td><td>Hinkley, Sasha</td><td>1386</td><td>SUB320A335R</td><td>NIRCam Coronagraphic Imaging</td><td>High Contrast Imaging of Exoplanets and Exoplanetary Systems with JWST</td><td>V01386003001</td><td>SUCCESSFUL</td><td>59790.13650497685</td><td>False</td></tr>\n",
       "</table></div>"
      ],
      "text/plain": [
       "<Table masked=True length=2>\n",
       "                   filename                   productLevel  kind  filter  coronmsk ...                                 title                                    visit_id    visitsta     vststart_mjd   isRestricted\n",
       "                    str45                         str2     bytes3  str5     str9   ...                                 str70                                     str12       str10         float64          bool    \n",
       "--------------------------------------------- ------------ ------ ------ --------- ... ---------------------------------------------------------------------- ------------ ---------- ----------------- ------------\n",
       "jw01386002001_0310a_00001_nrcalong_uncal.fits           1b    SCI  F444W MASKA335R ... High Contrast Imaging of Exoplanets and Exoplanetary Systems with JWST V01386002001 SUCCESSFUL 59790.05121913194        False\n",
       "jw01386003001_0310a_00001_nrcalong_uncal.fits           1b    SCI  F444W MASKA335R ... High Contrast Imaging of Exoplanets and Exoplanetary Systems with JWST V01386003001 SUCCESSFUL 59790.13650497685        False"
      ]
     },
     "execution_count": 8,
     "metadata": {},
     "output_type": "execute_result"
    }
   ],
   "source": [
    "spaceKLIP.mast.query_coron_datasets('NIRCam', program=1386, filt='F444W', kind='SCI', return_filenames=True,\n",
    "                                    level='uncal')"
   ]
  },
  {
   "cell_type": "markdown",
   "id": "f93d217c",
   "metadata": {},
   "source": [
    "## Downloading data\n",
    "\n",
    "The `download_files` function can be used to download from MAST the filenames in a given query results table. "
   ]
  },
  {
   "cell_type": "code",
   "execution_count": 9,
   "id": "2d7c9a73",
   "metadata": {},
   "outputs": [
    {
     "name": "stdout",
     "output_type": "stream",
     "text": [
      " DOWNLOAD SUCCESSFUL: ./jw01386002001_0310a_00001_nrcalong_uncal.fits\n",
      " DOWNLOAD SUCCESSFUL: ./jw01386003001_0310a_00001_nrcalong_uncal.fits\n"
     ]
    }
   ],
   "source": [
    "table = spaceKLIP.mast.query_coron_datasets('NIRCam', program=1386, filt='F444W', kind='SCI', return_filenames=True,\n",
    "                                    level='uncal')\n",
    "\n",
    "spaceKLIP.mast.download_files(table)"
   ]
  },
  {
   "cell_type": "markdown",
   "id": "f19b3059",
   "metadata": {},
   "source": [
    "A MAST API token can be provided by the environment variable $MAST_API_TOKEN to enable download of exclusive-access data. \n",
    "\n",
    "Set the `outputdir` parameter if you want the files downloaded somewhere other then the current working directory. \n",
    "\n",
    "If the files already have been downloaded, they will by default be ignored. Set `overwrite=True` to redownload, or\n",
    "`exists_ok=False` to raise an exception if such files already exist. "
   ]
  },
  {
   "cell_type": "code",
   "execution_count": null,
   "id": "dddfecf5",
   "metadata": {},
   "outputs": [],
   "source": []
  }
 ],
 "metadata": {
  "kernelspec": {
   "display_name": "Python 3 (ipykernel)",
   "language": "python",
   "name": "python3"
  },
  "language_info": {
   "codemirror_mode": {
    "name": "ipython",
    "version": 3
   },
   "file_extension": ".py",
   "mimetype": "text/x-python",
   "name": "python",
   "nbconvert_exporter": "python",
   "pygments_lexer": "ipython3",
   "version": "3.11.3"
  }
 },
 "nbformat": 4,
 "nbformat_minor": 5
}
