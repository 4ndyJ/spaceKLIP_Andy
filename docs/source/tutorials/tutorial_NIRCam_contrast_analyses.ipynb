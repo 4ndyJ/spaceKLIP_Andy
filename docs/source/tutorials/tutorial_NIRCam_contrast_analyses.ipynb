{
 "cells": [
  {
   "cell_type": "markdown",
   "id": "e0dab164",
   "metadata": {},
   "source": [
    "# Tutorial for NIRCam post-pipeline contrast analyses using spaceKLIP\n",
    "\n",
    "In this notebook we will analyze the NIRCam coronagraphy data on HIP 65426 b \n",
    "from the JWST ERS program on Direct Observations of Exoplanetary Systems, program 1386. \n",
    "\n",
    "\n",
    "<div class=\"alert alert-block alert-warning\">\n",
    "<b>Prerequisite:</b> This notebook assumes you have already ran the \"Tutorial for NIRCam data reductions\" notebook. The output files  must be present from that reduction to be analyzed in this notebook.\n",
    "\n",
    "</div>"
   ]
  },
  {
   "cell_type": "markdown",
   "id": "7805e7a0",
   "metadata": {},
   "source": [
    "## Setup and imports"
   ]
  },
  {
   "cell_type": "code",
   "execution_count": 3,
   "id": "c05898da",
   "metadata": {},
   "outputs": [],
   "source": [
    "import os\n",
    "import pdb\n",
    "import sys\n",
    "import glob\n",
    "\n",
    "import numpy as np\n",
    "import astropy.io.fits as fits\n",
    "\n",
    "import matplotlib.pyplot as plt\n",
    "import matplotlib\n",
    "\n",
    "import spaceKLIP"
   ]
  },
  {
   "cell_type": "markdown",
   "id": "809b02ab",
   "metadata": {},
   "source": [
    "Note that currently the import of `webbpsf_ext` has a side effect of configuring extra verbose logging. We're not interested in that logging text, so let's quiet it. "
   ]
  },
  {
   "cell_type": "code",
   "execution_count": 4,
   "id": "2af0d94a",
   "metadata": {},
   "outputs": [],
   "source": [
    "import webbpsf_ext\n",
    "webbpsf_ext.setup_logging('WARN', verbose=False)"
   ]
  },
  {
   "cell_type": "code",
   "execution_count": 5,
   "id": "ebe69055",
   "metadata": {},
   "outputs": [],
   "source": [
    "data_root = 'data_nircam_hd65426'"
   ]
  },
  {
   "cell_type": "markdown",
   "id": "dc32bde4",
   "metadata": {},
   "source": [
    "## Re-read level 3 outputs into database \n",
    "Read in output files produced in the NIRCam coronagraph data reduction notebook. "
   ]
  },
  {
   "cell_type": "code",
   "execution_count": 6,
   "id": "005a5693",
   "metadata": {},
   "outputs": [
    {
     "name": "stdout",
     "output_type": "stream",
     "text": [
      "[spaceKLIP.database:INFO] --> Identified 5 concatenation(s)\n",
      "[spaceKLIP.database:INFO]   --> Concatenation 1: JWST_NIRCAM_NRCALONG_F250M_MASKRND_MASKA335R_SUB320A335R\n",
      " TYPE   EXP_TYPE DATAMODL TELESCOP  TARGPROP INSTRUME DETECTOR FILTER ...      PIXSCALE        MODE  ANNULI SUBSECTS    KLMODES     BUNIT  BLURFWHM\n",
      "------ --------- -------- -------- --------- -------- -------- ------ ... ------------------ ------- ------ -------- -------------- ------ --------\n",
      "PYKLIP NRC_CORON   STAGE3     JWST HIP-65426   NIRCAM NRCALONG  F250M ... 62.908505000000005 ADI+RDI      1        1 1,2,5,10,20,50 MJy/sr      nan\n",
      "PYKLIP NRC_CORON   STAGE3     JWST HIP-65426   NIRCAM NRCALONG  F250M ... 62.908505000000005 ADI+RDI      5        1 1,2,5,10,20,50 MJy/sr      nan\n",
      "PYKLIP NRC_CORON   STAGE3     JWST HIP-65426   NIRCAM NRCALONG  F250M ... 62.908505000000005     ADI      1        1 1,2,5,10,20,50 MJy/sr      nan\n",
      "PYKLIP NRC_CORON   STAGE3     JWST HIP-65426   NIRCAM NRCALONG  F250M ... 62.908505000000005     ADI      5        1 1,2,5,10,20,50 MJy/sr      nan\n",
      "PYKLIP NRC_CORON   STAGE3     JWST HIP-65426   NIRCAM NRCALONG  F250M ... 62.908505000000005     RDI      1        1 1,2,5,10,20,50 MJy/sr      nan\n",
      "PYKLIP NRC_CORON   STAGE3     JWST HIP-65426   NIRCAM NRCALONG  F250M ... 62.908505000000005     RDI      5        1 1,2,5,10,20,50 MJy/sr      nan\n",
      "[spaceKLIP.database:INFO]   --> Concatenation 2: JWST_NIRCAM_NRCALONG_F300M_MASKRND_MASKA335R_SUB320A335R\n",
      " TYPE   EXP_TYPE DATAMODL TELESCOP  TARGPROP INSTRUME DETECTOR FILTER ...      PIXSCALE        MODE  ANNULI SUBSECTS    KLMODES     BUNIT  BLURFWHM\n",
      "------ --------- -------- -------- --------- -------- -------- ------ ... ------------------ ------- ------ -------- -------------- ------ --------\n",
      "PYKLIP NRC_CORON   STAGE3     JWST HIP-65426   NIRCAM NRCALONG  F300M ... 62.908505000000005 ADI+RDI      1        1 1,2,5,10,20,50 MJy/sr      nan\n",
      "PYKLIP NRC_CORON   STAGE3     JWST HIP-65426   NIRCAM NRCALONG  F300M ... 62.908505000000005 ADI+RDI      5        1 1,2,5,10,20,50 MJy/sr      nan\n",
      "PYKLIP NRC_CORON   STAGE3     JWST HIP-65426   NIRCAM NRCALONG  F300M ... 62.908505000000005     ADI      1        1 1,2,5,10,20,50 MJy/sr      nan\n",
      "PYKLIP NRC_CORON   STAGE3     JWST HIP-65426   NIRCAM NRCALONG  F300M ... 62.908505000000005     ADI      5        1 1,2,5,10,20,50 MJy/sr      nan\n",
      "PYKLIP NRC_CORON   STAGE3     JWST HIP-65426   NIRCAM NRCALONG  F300M ... 62.908505000000005     RDI      1        1 1,2,5,10,20,50 MJy/sr      nan\n",
      "PYKLIP NRC_CORON   STAGE3     JWST HIP-65426   NIRCAM NRCALONG  F300M ... 62.908505000000005     RDI      5        1 1,2,5,10,20,50 MJy/sr      nan\n",
      "[spaceKLIP.database:INFO]   --> Concatenation 3: JWST_NIRCAM_NRCALONG_F356W_MASKRND_MASKA335R_SUB320A335R\n",
      " TYPE   EXP_TYPE DATAMODL TELESCOP  TARGPROP INSTRUME DETECTOR FILTER ...      PIXSCALE        MODE  ANNULI SUBSECTS    KLMODES     BUNIT  BLURFWHM\n",
      "------ --------- -------- -------- --------- -------- -------- ------ ... ------------------ ------- ------ -------- -------------- ------ --------\n",
      "PYKLIP NRC_CORON   STAGE3     JWST HIP-65426   NIRCAM NRCALONG  F356W ... 62.908505000000005 ADI+RDI      1        1 1,2,5,10,20,50 MJy/sr      nan\n",
      "PYKLIP NRC_CORON   STAGE3     JWST HIP-65426   NIRCAM NRCALONG  F356W ... 62.908505000000005 ADI+RDI      5        1 1,2,5,10,20,50 MJy/sr      nan\n",
      "PYKLIP NRC_CORON   STAGE3     JWST HIP-65426   NIRCAM NRCALONG  F356W ... 62.908505000000005     ADI      1        1 1,2,5,10,20,50 MJy/sr      nan\n",
      "PYKLIP NRC_CORON   STAGE3     JWST HIP-65426   NIRCAM NRCALONG  F356W ... 62.908505000000005     ADI      5        1 1,2,5,10,20,50 MJy/sr      nan\n",
      "PYKLIP NRC_CORON   STAGE3     JWST HIP-65426   NIRCAM NRCALONG  F356W ... 62.908505000000005     RDI      1        1 1,2,5,10,20,50 MJy/sr      nan\n",
      "PYKLIP NRC_CORON   STAGE3     JWST HIP-65426   NIRCAM NRCALONG  F356W ... 62.908505000000005     RDI      5        1 1,2,5,10,20,50 MJy/sr      nan\n",
      "[spaceKLIP.database:INFO]   --> Concatenation 4: JWST_NIRCAM_NRCALONG_F410M_MASKRND_MASKA335R_SUB320A335R\n",
      " TYPE   EXP_TYPE DATAMODL TELESCOP  TARGPROP INSTRUME DETECTOR FILTER ...      PIXSCALE        MODE  ANNULI SUBSECTS    KLMODES     BUNIT  BLURFWHM\n",
      "------ --------- -------- -------- --------- -------- -------- ------ ... ------------------ ------- ------ -------- -------------- ------ --------\n",
      "PYKLIP NRC_CORON   STAGE3     JWST HIP-65426   NIRCAM NRCALONG  F410M ... 62.908505000000005 ADI+RDI      1        1 1,2,5,10,20,50 MJy/sr      nan\n",
      "PYKLIP NRC_CORON   STAGE3     JWST HIP-65426   NIRCAM NRCALONG  F410M ... 62.908505000000005 ADI+RDI      5        1 1,2,5,10,20,50 MJy/sr      nan\n",
      "PYKLIP NRC_CORON   STAGE3     JWST HIP-65426   NIRCAM NRCALONG  F410M ... 62.908505000000005     ADI      1        1 1,2,5,10,20,50 MJy/sr      nan\n",
      "PYKLIP NRC_CORON   STAGE3     JWST HIP-65426   NIRCAM NRCALONG  F410M ... 62.908505000000005     ADI      5        1 1,2,5,10,20,50 MJy/sr      nan\n",
      "PYKLIP NRC_CORON   STAGE3     JWST HIP-65426   NIRCAM NRCALONG  F410M ... 62.908505000000005     RDI      1        1 1,2,5,10,20,50 MJy/sr      nan\n",
      "PYKLIP NRC_CORON   STAGE3     JWST HIP-65426   NIRCAM NRCALONG  F410M ... 62.908505000000005     RDI      5        1 1,2,5,10,20,50 MJy/sr      nan\n",
      "[spaceKLIP.database:INFO]   --> Concatenation 5: JWST_NIRCAM_NRCALONG_F444W_MASKRND_MASKA335R_SUB320A335R\n",
      " TYPE   EXP_TYPE DATAMODL TELESCOP  TARGPROP INSTRUME DETECTOR FILTER ...      PIXSCALE        MODE  ANNULI SUBSECTS    KLMODES     BUNIT  BLURFWHM\n",
      "------ --------- -------- -------- --------- -------- -------- ------ ... ------------------ ------- ------ -------- -------------- ------ --------\n",
      "PYKLIP NRC_CORON   STAGE3     JWST HIP-65426   NIRCAM NRCALONG  F444W ... 62.908505000000005 ADI+RDI      1        1 1,2,5,10,20,50 MJy/sr      nan\n",
      "PYKLIP NRC_CORON   STAGE3     JWST HIP-65426   NIRCAM NRCALONG  F444W ... 62.908505000000005 ADI+RDI      5        1 1,2,5,10,20,50 MJy/sr      nan\n",
      "PYKLIP NRC_CORON   STAGE3     JWST HIP-65426   NIRCAM NRCALONG  F444W ... 62.908505000000005     ADI      1        1 1,2,5,10,20,50 MJy/sr      nan\n",
      "PYKLIP NRC_CORON   STAGE3     JWST HIP-65426   NIRCAM NRCALONG  F444W ... 62.908505000000005     ADI      5        1 1,2,5,10,20,50 MJy/sr      nan\n",
      "PYKLIP NRC_CORON   STAGE3     JWST HIP-65426   NIRCAM NRCALONG  F444W ... 62.908505000000005     RDI      1        1 1,2,5,10,20,50 MJy/sr      nan\n",
      "PYKLIP NRC_CORON   STAGE3     JWST HIP-65426   NIRCAM NRCALONG  F444W ... 62.908505000000005     RDI      5        1 1,2,5,10,20,50 MJy/sr      nan\n"
     ]
    }
   ],
   "source": [
    "input_dir = os.path.join(data_root, 'klipsub')\n",
    "    \n",
    "fitsfiles = sorted(glob.glob(os.path.join(input_dir, \"*KLmodes-all.fits\")))\n",
    "\n",
    "database = spaceKLIP.database.Database(output_dir=data_root)\n",
    "database.read_jwst_s3_data(fitsfiles)"
   ]
  },
  {
   "cell_type": "markdown",
   "id": "406f3baf",
   "metadata": {},
   "source": [
    "## Contrast Calculations\n",
    "\n",
    "Here we use the analysistools module to measure contrast\n",
    "\n",
    "### Preparation: Stellar Photometry Model\n",
    "\n",
    "A model of the target star is needed to compute its flux in the observational filters, and thereby produce a reference point from which to determine our contrast performance. This requires an input that gives either **(a)** the host star photometry, formatted as a [Vizier](http://vizier.cds.unistra.fr) VOTable, or **(b)** a simple text file with two columns giving wavelenth in microns and flux in Jy. \n",
    "\n",
    "If you need to obtain you own version of option **(a)**, head to Vizier's [Photometry Viewer](http://vizier.cds.unistra.fr/vizier/sed/) and input your target of interest. However, exercise caution as this search can introduce spurious photometry measurements from nearby sources, which are realised as sharp variations in flux that do not agree with the expected profile of the targets spectral energy distribution. You may need to clean the obtained data by reducing the search radius, or by manually removing individual points using the checkboxes in the table at the bottom. Once you are happy, click \"Download Data\" to obtain a VOTable that can be directly ingested into spaceKLIP. Option **(b)** could be instead be produced, for instance, from fitting a scaled version of a stellar atmosphere model to available photometry. \n",
    "\n",
    "We provide here examples of both kinds of file, provided by Aarynn Carter. _Only one is needed; we provide both purely as examples._"
   ]
  },
  {
   "cell_type": "code",
<<<<<<< HEAD
   "execution_count": 7,
=======
   "execution_count": 1,
>>>>>>> refs/remotes/origin/more_docs_for_v2
   "id": "cee7e84d",
   "metadata": {},
   "outputs": [],
   "source": [
    "star_photometry_vot = 'HIP65426.vot'\n",
    "star_photometry_txt = 'HIP65426A_sdf_phoenix_m+modbb_disk_r.txt'"
   ]
  },
  {
   "cell_type": "code",
   "execution_count": 8,
   "id": "492dc30b",
   "metadata": {},
   "outputs": [],
   "source": [
    "import astropy\n",
    "\n",
    "# Read in VOT version\n",
    "vot_version = astropy.table.Table.read(star_photometry_vot)\n",
    "\n",
    "# convert from freq to wl, just for plotting below.\n",
    "vot_version['wavelength'] = (astropy.constants.c /  vot_version['sed_freq']).to(astropy.units.micron)\n",
    "\n",
    "# Read in TXT version\n",
    "txt_version = astropy.table.Table.read(star_photometry_txt,\n",
    "                                       format='ascii',\n",
    "                                       names=['wavelength', 'flux'])\n",
    "txt_version.columns['wavelength'].unit = astropy.units.micron\n",
    "txt_version.columns['flux'].unit = astropy.units.Jansky"
   ]
  },
  {
   "cell_type": "code",
   "execution_count": 9,
   "id": "210a4ac1",
   "metadata": {},
   "outputs": [
    {
     "data": {
      "text/plain": [
       "<matplotlib.legend.Legend at 0x19a954640>"
      ]
     },
     "execution_count": 9,
     "metadata": {},
     "output_type": "execute_result"
    },
    {
     "data": {
      "image/png": "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",
      "text/plain": [
       "<Figure size 800x600 with 1 Axes>"
      ]
     },
     "metadata": {},
     "output_type": "display_data"
    }
   ],
   "source": [
    "# plot, to show the two models are consistent\n",
    "\n",
    "plt.semilogx(txt_version['wavelength'], txt_version['flux'], label='HIP65426A_sdf_phoenix_m+modbb_disk_r.txt',)\n",
    "plt.scatter(vot_version['wavelength'], vot_version['sed_flux'], label='HIP65426.vot', color='C1')\n",
    "\n",
    "plt.xlabel(\"Wavelength [micron]\")\n",
    "plt.ylabel(\"Flux [Jansky]\")\n",
    "plt.legend(fontsize=9)\n"
   ]
  },
  {
   "cell_type": "markdown",
   "id": "bfbb8181",
   "metadata": {},
   "source": [
    "## Set up Analysis Tools\n",
    "\n",
    "We initialize the AnalysisTools class and provide it the database of files to be analyzed. "
   ]
  },
  {
   "cell_type": "code",
   "execution_count": 10,
   "id": "d57f3a48",
   "metadata": {},
   "outputs": [],
   "source": [
    "# Initialize the spaceKLIP contrast estimation class.\n",
    "analysistools = spaceKLIP.analysistools.AnalysisTools(database)\n"
   ]
  },
  {
   "cell_type": "markdown",
   "id": "b7213d6f",
   "metadata": {},
   "source": [
    "## Compute Raw Contrasts\n",
    "\n",
    "This iterates over all filters and datasets."
   ]
  },
  {
   "cell_type": "code",
   "execution_count": 11,
   "id": "56c46ea7",
   "metadata": {
    "scrolled": false
   },
   "outputs": [
    {
     "name": "stdout",
     "output_type": "stream",
     "text": [
      "[spaceKLIP.analysistools:INFO] --> Concatenation JWST_NIRCAM_NRCALONG_F250M_MASKRND_MASKA335R_SUB320A335R\n",
      "[spaceKLIP.psf:INFO]   --> Generating WebbPSF model\n"
     ]
    },
    {
     "ename": "RepresenterError",
     "evalue": "('cannot represent an object', 'JWST')",
     "output_type": "error",
     "traceback": [
      "\u001b[0;31m---------------------------------------------------------------------------\u001b[0m",
      "\u001b[0;31mRepresenterError\u001b[0m                          Traceback (most recent call last)",
      "Cell \u001b[0;32mIn[11], line 2\u001b[0m\n\u001b[1;32m      1\u001b[0m \u001b[38;5;66;03m# Compute raw contrast.\u001b[39;00m\n\u001b[0;32m----> 2\u001b[0m \u001b[43manalysistools\u001b[49m\u001b[38;5;241;43m.\u001b[39;49m\u001b[43mraw_contrast\u001b[49m\u001b[43m(\u001b[49m\u001b[43mstar_photometry_txt\u001b[49m\u001b[43m)\u001b[49m\n",
      "File \u001b[0;32m~/Dropbox (Personal)/Documents/software/git/spaceKLIP/spaceKLIP/analysistools.py:294\u001b[0m, in \u001b[0;36mAnalysisTools.raw_contrast\u001b[0;34m(self, starfile, spectral_type, companions, overwrite_crpix, subdir, output_filetype)\u001b[0m\n\u001b[1;32m    291\u001b[0m         results_table\u001b[38;5;241m.\u001b[39mmeta[kw] \u001b[38;5;241m=\u001b[39m \u001b[38;5;28mself\u001b[39m\u001b[38;5;241m.\u001b[39mdatabase\u001b[38;5;241m.\u001b[39mred[key][kw][j]\n\u001b[1;32m    293\u001b[0m     output_fn \u001b[38;5;241m=\u001b[39m  fitsfile[:\u001b[38;5;241m-\u001b[39m\u001b[38;5;241m5\u001b[39m]\u001b[38;5;241m+\u001b[39m\u001b[38;5;124m\"\u001b[39m\u001b[38;5;124m_contrast.ecsv\u001b[39m\u001b[38;5;124m\"\u001b[39m\n\u001b[0;32m--> 294\u001b[0m     \u001b[43mresults_table\u001b[49m\u001b[38;5;241;43m.\u001b[39;49m\u001b[43mwrite\u001b[49m\u001b[43m(\u001b[49m\u001b[43moutput_fn\u001b[49m\u001b[43m,\u001b[49m\u001b[43m \u001b[49m\u001b[43moverwrite\u001b[49m\u001b[38;5;241;43m=\u001b[39;49m\u001b[38;5;28;43;01mTrue\u001b[39;49;00m\u001b[43m)\u001b[49m\n\u001b[1;32m    295\u001b[0m     \u001b[38;5;28mprint\u001b[39m(\u001b[38;5;124mf\u001b[39m\u001b[38;5;124m\"\u001b[39m\u001b[38;5;124mContrast results saved to \u001b[39m\u001b[38;5;132;01m{\u001b[39;00moutput_fn\u001b[38;5;132;01m}\u001b[39;00m\u001b[38;5;124m\"\u001b[39m)\n\u001b[1;32m    296\u001b[0m \u001b[38;5;28;01melse\u001b[39;00m:\n\u001b[1;32m    297\u001b[0m     \u001b[38;5;66;03m# Save outputs as numpy .npy files\u001b[39;00m\n",
      "File \u001b[0;32m~/miniconda3/envs/stenv-py3.10-2023.04.05/lib/python3.10/site-packages/astropy/table/connect.py:130\u001b[0m, in \u001b[0;36mTableWrite.__call__\u001b[0;34m(self, serialize_method, *args, **kwargs)\u001b[0m\n\u001b[1;32m    128\u001b[0m instance \u001b[38;5;241m=\u001b[39m \u001b[38;5;28mself\u001b[39m\u001b[38;5;241m.\u001b[39m_instance\n\u001b[1;32m    129\u001b[0m \u001b[38;5;28;01mwith\u001b[39;00m serialize_method_as(instance, serialize_method):\n\u001b[0;32m--> 130\u001b[0m     \u001b[38;5;28;43mself\u001b[39;49m\u001b[38;5;241;43m.\u001b[39;49m\u001b[43mregistry\u001b[49m\u001b[38;5;241;43m.\u001b[39;49m\u001b[43mwrite\u001b[49m\u001b[43m(\u001b[49m\u001b[43minstance\u001b[49m\u001b[43m,\u001b[49m\u001b[43m \u001b[49m\u001b[38;5;241;43m*\u001b[39;49m\u001b[43margs\u001b[49m\u001b[43m,\u001b[49m\u001b[43m \u001b[49m\u001b[38;5;241;43m*\u001b[39;49m\u001b[38;5;241;43m*\u001b[39;49m\u001b[43mkwargs\u001b[49m\u001b[43m)\u001b[49m\n",
      "File \u001b[0;32m~/miniconda3/envs/stenv-py3.10-2023.04.05/lib/python3.10/site-packages/astropy/io/registry/core.py:385\u001b[0m, in \u001b[0;36mUnifiedOutputRegistry.write\u001b[0;34m(self, data, format, *args, **kwargs)\u001b[0m\n\u001b[1;32m    380\u001b[0m     \u001b[38;5;28mformat\u001b[39m \u001b[38;5;241m=\u001b[39m \u001b[38;5;28mself\u001b[39m\u001b[38;5;241m.\u001b[39m_get_valid_format(\n\u001b[1;32m    381\u001b[0m         \u001b[38;5;124m\"\u001b[39m\u001b[38;5;124mwrite\u001b[39m\u001b[38;5;124m\"\u001b[39m, data\u001b[38;5;241m.\u001b[39m\u001b[38;5;18m__class__\u001b[39m, path, fileobj, args, kwargs\n\u001b[1;32m    382\u001b[0m     )\n\u001b[1;32m    384\u001b[0m writer \u001b[38;5;241m=\u001b[39m \u001b[38;5;28mself\u001b[39m\u001b[38;5;241m.\u001b[39mget_writer(\u001b[38;5;28mformat\u001b[39m, data\u001b[38;5;241m.\u001b[39m\u001b[38;5;18m__class__\u001b[39m)\n\u001b[0;32m--> 385\u001b[0m \u001b[38;5;28;01mreturn\u001b[39;00m \u001b[43mwriter\u001b[49m\u001b[43m(\u001b[49m\u001b[43mdata\u001b[49m\u001b[43m,\u001b[49m\u001b[43m \u001b[49m\u001b[38;5;241;43m*\u001b[39;49m\u001b[43margs\u001b[49m\u001b[43m,\u001b[49m\u001b[43m \u001b[49m\u001b[38;5;241;43m*\u001b[39;49m\u001b[38;5;241;43m*\u001b[39;49m\u001b[43mkwargs\u001b[49m\u001b[43m)\u001b[49m\n",
      "File \u001b[0;32m~/miniconda3/envs/stenv-py3.10-2023.04.05/lib/python3.10/site-packages/astropy/io/ascii/connect.py:28\u001b[0m, in \u001b[0;36mio_write\u001b[0;34m(format, table, filename, **kwargs)\u001b[0m\n\u001b[1;32m     26\u001b[0m     \u001b[38;5;28mformat\u001b[39m \u001b[38;5;241m=\u001b[39m re\u001b[38;5;241m.\u001b[39msub(\u001b[38;5;124mr\u001b[39m\u001b[38;5;124m\"\u001b[39m\u001b[38;5;124m^ascii\u001b[39m\u001b[38;5;124m\\\u001b[39m\u001b[38;5;124m.\u001b[39m\u001b[38;5;124m\"\u001b[39m, \u001b[38;5;124m\"\u001b[39m\u001b[38;5;124m\"\u001b[39m, \u001b[38;5;28mformat\u001b[39m)\n\u001b[1;32m     27\u001b[0m     kwargs[\u001b[38;5;124m\"\u001b[39m\u001b[38;5;124mformat\u001b[39m\u001b[38;5;124m\"\u001b[39m] \u001b[38;5;241m=\u001b[39m \u001b[38;5;28mformat\u001b[39m\n\u001b[0;32m---> 28\u001b[0m \u001b[38;5;28;01mreturn\u001b[39;00m \u001b[43mwrite\u001b[49m\u001b[43m(\u001b[49m\u001b[43mtable\u001b[49m\u001b[43m,\u001b[49m\u001b[43m \u001b[49m\u001b[43mfilename\u001b[49m\u001b[43m,\u001b[49m\u001b[43m \u001b[49m\u001b[38;5;241;43m*\u001b[39;49m\u001b[38;5;241;43m*\u001b[39;49m\u001b[43mkwargs\u001b[49m\u001b[43m)\u001b[49m\n",
      "File \u001b[0;32m~/miniconda3/envs/stenv-py3.10-2023.04.05/lib/python3.10/site-packages/astropy/io/ascii/ui.py:980\u001b[0m, in \u001b[0;36mwrite\u001b[0;34m(table, output, format, Writer, fast_writer, overwrite, **kwargs)\u001b[0m\n\u001b[1;32m    977\u001b[0m     writer\u001b[38;5;241m.\u001b[39mwrite(table, output)\n\u001b[1;32m    978\u001b[0m     \u001b[38;5;28;01mreturn\u001b[39;00m\n\u001b[0;32m--> 980\u001b[0m lines \u001b[38;5;241m=\u001b[39m \u001b[43mwriter\u001b[49m\u001b[38;5;241;43m.\u001b[39;49m\u001b[43mwrite\u001b[49m\u001b[43m(\u001b[49m\u001b[43mtable\u001b[49m\u001b[43m)\u001b[49m\n\u001b[1;32m    982\u001b[0m \u001b[38;5;66;03m# Write the lines to output\u001b[39;00m\n\u001b[1;32m    983\u001b[0m outstr \u001b[38;5;241m=\u001b[39m os\u001b[38;5;241m.\u001b[39mlinesep\u001b[38;5;241m.\u001b[39mjoin(lines)\n",
      "File \u001b[0;32m~/miniconda3/envs/stenv-py3.10-2023.04.05/lib/python3.10/site-packages/astropy/io/ascii/core.py:1580\u001b[0m, in \u001b[0;36mBaseReader.write\u001b[0;34m(self, table)\u001b[0m\n\u001b[1;32m   1578\u001b[0m \u001b[38;5;66;03m# Write header and data to lines list\u001b[39;00m\n\u001b[1;32m   1579\u001b[0m lines \u001b[38;5;241m=\u001b[39m []\n\u001b[0;32m-> 1580\u001b[0m \u001b[38;5;28;43mself\u001b[39;49m\u001b[38;5;241;43m.\u001b[39;49m\u001b[43mwrite_header\u001b[49m\u001b[43m(\u001b[49m\u001b[43mlines\u001b[49m\u001b[43m,\u001b[49m\u001b[43m \u001b[49m\u001b[43mtable\u001b[49m\u001b[38;5;241;43m.\u001b[39;49m\u001b[43mmeta\u001b[49m\u001b[43m)\u001b[49m\n\u001b[1;32m   1581\u001b[0m \u001b[38;5;28mself\u001b[39m\u001b[38;5;241m.\u001b[39mdata\u001b[38;5;241m.\u001b[39mwrite(lines)\n\u001b[1;32m   1583\u001b[0m \u001b[38;5;28;01mreturn\u001b[39;00m lines\n",
      "File \u001b[0;32m~/miniconda3/envs/stenv-py3.10-2023.04.05/lib/python3.10/site-packages/astropy/io/ascii/core.py:1533\u001b[0m, in \u001b[0;36mBaseReader.write_header\u001b[0;34m(self, lines, meta)\u001b[0m\n\u001b[1;32m   1531\u001b[0m \u001b[38;5;28;01mdef\u001b[39;00m \u001b[38;5;21mwrite_header\u001b[39m(\u001b[38;5;28mself\u001b[39m, lines, meta):\n\u001b[1;32m   1532\u001b[0m     \u001b[38;5;28mself\u001b[39m\u001b[38;5;241m.\u001b[39mheader\u001b[38;5;241m.\u001b[39mwrite_comments(lines, meta)\n\u001b[0;32m-> 1533\u001b[0m     \u001b[38;5;28;43mself\u001b[39;49m\u001b[38;5;241;43m.\u001b[39;49m\u001b[43mheader\u001b[49m\u001b[38;5;241;43m.\u001b[39;49m\u001b[43mwrite\u001b[49m\u001b[43m(\u001b[49m\u001b[43mlines\u001b[49m\u001b[43m)\u001b[49m\n",
      "File \u001b[0;32m~/miniconda3/envs/stenv-py3.10-2023.04.05/lib/python3.10/site-packages/astropy/io/ascii/ecsv.py:104\u001b[0m, in \u001b[0;36mEcsvHeader.write\u001b[0;34m(self, lines)\u001b[0m\n\u001b[1;32m     98\u001b[0m \u001b[38;5;28;01mif\u001b[39;00m \u001b[38;5;28mself\u001b[39m\u001b[38;5;241m.\u001b[39msplitter\u001b[38;5;241m.\u001b[39mdelimiter \u001b[38;5;241m!=\u001b[39m \u001b[38;5;124m\"\u001b[39m\u001b[38;5;124m \u001b[39m\u001b[38;5;124m\"\u001b[39m:\n\u001b[1;32m     99\u001b[0m     header[\u001b[38;5;124m\"\u001b[39m\u001b[38;5;124mdelimiter\u001b[39m\u001b[38;5;124m\"\u001b[39m] \u001b[38;5;241m=\u001b[39m \u001b[38;5;28mself\u001b[39m\u001b[38;5;241m.\u001b[39msplitter\u001b[38;5;241m.\u001b[39mdelimiter\n\u001b[1;32m    101\u001b[0m header_yaml_lines \u001b[38;5;241m=\u001b[39m [\n\u001b[1;32m    102\u001b[0m     \u001b[38;5;124mf\u001b[39m\u001b[38;5;124m\"\u001b[39m\u001b[38;5;124m%ECSV \u001b[39m\u001b[38;5;132;01m{\u001b[39;00mECSV_VERSION\u001b[38;5;132;01m}\u001b[39;00m\u001b[38;5;124m\"\u001b[39m,\n\u001b[1;32m    103\u001b[0m     \u001b[38;5;124m\"\u001b[39m\u001b[38;5;124m---\u001b[39m\u001b[38;5;124m\"\u001b[39m,\n\u001b[0;32m--> 104\u001b[0m ] \u001b[38;5;241m+\u001b[39m \u001b[43mmeta\u001b[49m\u001b[38;5;241;43m.\u001b[39;49m\u001b[43mget_yaml_from_header\u001b[49m\u001b[43m(\u001b[49m\u001b[43mheader\u001b[49m\u001b[43m)\u001b[49m\n\u001b[1;32m    106\u001b[0m lines\u001b[38;5;241m.\u001b[39mextend([\u001b[38;5;28mself\u001b[39m\u001b[38;5;241m.\u001b[39mwrite_comment \u001b[38;5;241m+\u001b[39m line \u001b[38;5;28;01mfor\u001b[39;00m line \u001b[38;5;129;01min\u001b[39;00m header_yaml_lines])\n\u001b[1;32m    107\u001b[0m lines\u001b[38;5;241m.\u001b[39mappend(\u001b[38;5;28mself\u001b[39m\u001b[38;5;241m.\u001b[39msplitter\u001b[38;5;241m.\u001b[39mjoin([x\u001b[38;5;241m.\u001b[39minfo\u001b[38;5;241m.\u001b[39mname \u001b[38;5;28;01mfor\u001b[39;00m x \u001b[38;5;129;01min\u001b[39;00m \u001b[38;5;28mself\u001b[39m\u001b[38;5;241m.\u001b[39mcols]))\n",
      "File \u001b[0;32m~/miniconda3/envs/stenv-py3.10-2023.04.05/lib/python3.10/site-packages/astropy/table/meta.py:388\u001b[0m, in \u001b[0;36mget_yaml_from_header\u001b[0;34m(header)\u001b[0m\n\u001b[1;32m    385\u001b[0m header[\u001b[38;5;124m\"\u001b[39m\u001b[38;5;124mdatatype\u001b[39m\u001b[38;5;124m\"\u001b[39m] \u001b[38;5;241m=\u001b[39m [_get_col_attributes(col) \u001b[38;5;28;01mfor\u001b[39;00m col \u001b[38;5;129;01min\u001b[39;00m header[\u001b[38;5;124m\"\u001b[39m\u001b[38;5;124mcols\u001b[39m\u001b[38;5;124m\"\u001b[39m]]\n\u001b[1;32m    386\u001b[0m \u001b[38;5;28;01mdel\u001b[39;00m header[\u001b[38;5;124m\"\u001b[39m\u001b[38;5;124mcols\u001b[39m\u001b[38;5;124m\"\u001b[39m]\n\u001b[0;32m--> 388\u001b[0m lines \u001b[38;5;241m=\u001b[39m \u001b[43myaml\u001b[49m\u001b[38;5;241;43m.\u001b[39;49m\u001b[43mdump\u001b[49m\u001b[43m(\u001b[49m\n\u001b[1;32m    389\u001b[0m \u001b[43m    \u001b[49m\u001b[43mheader\u001b[49m\u001b[43m,\u001b[49m\u001b[43m \u001b[49m\u001b[43mdefault_flow_style\u001b[49m\u001b[38;5;241;43m=\u001b[39;49m\u001b[38;5;28;43;01mNone\u001b[39;49;00m\u001b[43m,\u001b[49m\u001b[43m \u001b[49m\u001b[43mDumper\u001b[49m\u001b[38;5;241;43m=\u001b[39;49m\u001b[43mTableDumper\u001b[49m\u001b[43m,\u001b[49m\u001b[43m \u001b[49m\u001b[43mwidth\u001b[49m\u001b[38;5;241;43m=\u001b[39;49m\u001b[38;5;241;43m130\u001b[39;49m\n\u001b[1;32m    390\u001b[0m \u001b[43m\u001b[49m\u001b[43m)\u001b[49m\u001b[38;5;241m.\u001b[39msplitlines()\n\u001b[1;32m    391\u001b[0m \u001b[38;5;28;01mreturn\u001b[39;00m lines\n",
      "File \u001b[0;32m~/miniconda3/envs/stenv-py3.10-2023.04.05/lib/python3.10/site-packages/yaml/__init__.py:253\u001b[0m, in \u001b[0;36mdump\u001b[0;34m(data, stream, Dumper, **kwds)\u001b[0m\n\u001b[1;32m    248\u001b[0m \u001b[38;5;28;01mdef\u001b[39;00m \u001b[38;5;21mdump\u001b[39m(data, stream\u001b[38;5;241m=\u001b[39m\u001b[38;5;28;01mNone\u001b[39;00m, Dumper\u001b[38;5;241m=\u001b[39mDumper, \u001b[38;5;241m*\u001b[39m\u001b[38;5;241m*\u001b[39mkwds):\n\u001b[1;32m    249\u001b[0m \u001b[38;5;250m    \u001b[39m\u001b[38;5;124;03m\"\"\"\u001b[39;00m\n\u001b[1;32m    250\u001b[0m \u001b[38;5;124;03m    Serialize a Python object into a YAML stream.\u001b[39;00m\n\u001b[1;32m    251\u001b[0m \u001b[38;5;124;03m    If stream is None, return the produced string instead.\u001b[39;00m\n\u001b[1;32m    252\u001b[0m \u001b[38;5;124;03m    \"\"\"\u001b[39;00m\n\u001b[0;32m--> 253\u001b[0m     \u001b[38;5;28;01mreturn\u001b[39;00m \u001b[43mdump_all\u001b[49m\u001b[43m(\u001b[49m\u001b[43m[\u001b[49m\u001b[43mdata\u001b[49m\u001b[43m]\u001b[49m\u001b[43m,\u001b[49m\u001b[43m \u001b[49m\u001b[43mstream\u001b[49m\u001b[43m,\u001b[49m\u001b[43m \u001b[49m\u001b[43mDumper\u001b[49m\u001b[38;5;241;43m=\u001b[39;49m\u001b[43mDumper\u001b[49m\u001b[43m,\u001b[49m\u001b[43m \u001b[49m\u001b[38;5;241;43m*\u001b[39;49m\u001b[38;5;241;43m*\u001b[39;49m\u001b[43mkwds\u001b[49m\u001b[43m)\u001b[49m\n",
      "File \u001b[0;32m~/miniconda3/envs/stenv-py3.10-2023.04.05/lib/python3.10/site-packages/yaml/__init__.py:241\u001b[0m, in \u001b[0;36mdump_all\u001b[0;34m(documents, stream, Dumper, default_style, default_flow_style, canonical, indent, width, allow_unicode, line_break, encoding, explicit_start, explicit_end, version, tags, sort_keys)\u001b[0m\n\u001b[1;32m    239\u001b[0m     dumper\u001b[38;5;241m.\u001b[39mopen()\n\u001b[1;32m    240\u001b[0m     \u001b[38;5;28;01mfor\u001b[39;00m data \u001b[38;5;129;01min\u001b[39;00m documents:\n\u001b[0;32m--> 241\u001b[0m         \u001b[43mdumper\u001b[49m\u001b[38;5;241;43m.\u001b[39;49m\u001b[43mrepresent\u001b[49m\u001b[43m(\u001b[49m\u001b[43mdata\u001b[49m\u001b[43m)\u001b[49m\n\u001b[1;32m    242\u001b[0m     dumper\u001b[38;5;241m.\u001b[39mclose()\n\u001b[1;32m    243\u001b[0m \u001b[38;5;28;01mfinally\u001b[39;00m:\n",
      "File \u001b[0;32m~/miniconda3/envs/stenv-py3.10-2023.04.05/lib/python3.10/site-packages/yaml/representer.py:27\u001b[0m, in \u001b[0;36mBaseRepresenter.represent\u001b[0;34m(self, data)\u001b[0m\n\u001b[1;32m     26\u001b[0m \u001b[38;5;28;01mdef\u001b[39;00m \u001b[38;5;21mrepresent\u001b[39m(\u001b[38;5;28mself\u001b[39m, data):\n\u001b[0;32m---> 27\u001b[0m     node \u001b[38;5;241m=\u001b[39m \u001b[38;5;28;43mself\u001b[39;49m\u001b[38;5;241;43m.\u001b[39;49m\u001b[43mrepresent_data\u001b[49m\u001b[43m(\u001b[49m\u001b[43mdata\u001b[49m\u001b[43m)\u001b[49m\n\u001b[1;32m     28\u001b[0m     \u001b[38;5;28mself\u001b[39m\u001b[38;5;241m.\u001b[39mserialize(node)\n\u001b[1;32m     29\u001b[0m     \u001b[38;5;28mself\u001b[39m\u001b[38;5;241m.\u001b[39mrepresented_objects \u001b[38;5;241m=\u001b[39m {}\n",
      "File \u001b[0;32m~/miniconda3/envs/stenv-py3.10-2023.04.05/lib/python3.10/site-packages/yaml/representer.py:48\u001b[0m, in \u001b[0;36mBaseRepresenter.represent_data\u001b[0;34m(self, data)\u001b[0m\n\u001b[1;32m     46\u001b[0m data_types \u001b[38;5;241m=\u001b[39m \u001b[38;5;28mtype\u001b[39m(data)\u001b[38;5;241m.\u001b[39m\u001b[38;5;18m__mro__\u001b[39m\n\u001b[1;32m     47\u001b[0m \u001b[38;5;28;01mif\u001b[39;00m data_types[\u001b[38;5;241m0\u001b[39m] \u001b[38;5;129;01min\u001b[39;00m \u001b[38;5;28mself\u001b[39m\u001b[38;5;241m.\u001b[39myaml_representers:\n\u001b[0;32m---> 48\u001b[0m     node \u001b[38;5;241m=\u001b[39m \u001b[38;5;28;43mself\u001b[39;49m\u001b[38;5;241;43m.\u001b[39;49m\u001b[43myaml_representers\u001b[49m\u001b[43m[\u001b[49m\u001b[43mdata_types\u001b[49m\u001b[43m[\u001b[49m\u001b[38;5;241;43m0\u001b[39;49m\u001b[43m]\u001b[49m\u001b[43m]\u001b[49m\u001b[43m(\u001b[49m\u001b[38;5;28;43mself\u001b[39;49m\u001b[43m,\u001b[49m\u001b[43m \u001b[49m\u001b[43mdata\u001b[49m\u001b[43m)\u001b[49m\n\u001b[1;32m     49\u001b[0m \u001b[38;5;28;01melse\u001b[39;00m:\n\u001b[1;32m     50\u001b[0m     \u001b[38;5;28;01mfor\u001b[39;00m data_type \u001b[38;5;129;01min\u001b[39;00m data_types:\n",
      "File \u001b[0;32m~/miniconda3/envs/stenv-py3.10-2023.04.05/lib/python3.10/site-packages/yaml/representer.py:207\u001b[0m, in \u001b[0;36mSafeRepresenter.represent_dict\u001b[0;34m(self, data)\u001b[0m\n\u001b[1;32m    206\u001b[0m \u001b[38;5;28;01mdef\u001b[39;00m \u001b[38;5;21mrepresent_dict\u001b[39m(\u001b[38;5;28mself\u001b[39m, data):\n\u001b[0;32m--> 207\u001b[0m     \u001b[38;5;28;01mreturn\u001b[39;00m \u001b[38;5;28;43mself\u001b[39;49m\u001b[38;5;241;43m.\u001b[39;49m\u001b[43mrepresent_mapping\u001b[49m\u001b[43m(\u001b[49m\u001b[38;5;124;43m'\u001b[39;49m\u001b[38;5;124;43mtag:yaml.org,2002:map\u001b[39;49m\u001b[38;5;124;43m'\u001b[39;49m\u001b[43m,\u001b[49m\u001b[43m \u001b[49m\u001b[43mdata\u001b[49m\u001b[43m)\u001b[49m\n",
      "File \u001b[0;32m~/miniconda3/envs/stenv-py3.10-2023.04.05/lib/python3.10/site-packages/astropy/table/meta.py:366\u001b[0m, in \u001b[0;36mget_yaml_from_header.<locals>.TableDumper.represent_mapping\u001b[0;34m(self, tag, mapping, flow_style)\u001b[0m\n\u001b[1;32m    364\u001b[0m \u001b[38;5;28;01mfor\u001b[39;00m item_key, item_value \u001b[38;5;129;01min\u001b[39;00m mapping:\n\u001b[1;32m    365\u001b[0m     node_key \u001b[38;5;241m=\u001b[39m \u001b[38;5;28mself\u001b[39m\u001b[38;5;241m.\u001b[39mrepresent_data(item_key)\n\u001b[0;32m--> 366\u001b[0m     node_value \u001b[38;5;241m=\u001b[39m \u001b[38;5;28;43mself\u001b[39;49m\u001b[38;5;241;43m.\u001b[39;49m\u001b[43mrepresent_data\u001b[49m\u001b[43m(\u001b[49m\u001b[43mitem_value\u001b[49m\u001b[43m)\u001b[49m\n\u001b[1;32m    367\u001b[0m     \u001b[38;5;28;01mif\u001b[39;00m \u001b[38;5;129;01mnot\u001b[39;00m (\u001b[38;5;28misinstance\u001b[39m(node_key, yaml\u001b[38;5;241m.\u001b[39mScalarNode) \u001b[38;5;129;01mand\u001b[39;00m \u001b[38;5;129;01mnot\u001b[39;00m node_key\u001b[38;5;241m.\u001b[39mstyle):\n\u001b[1;32m    368\u001b[0m         best_style \u001b[38;5;241m=\u001b[39m \u001b[38;5;28;01mFalse\u001b[39;00m\n",
      "File \u001b[0;32m~/miniconda3/envs/stenv-py3.10-2023.04.05/lib/python3.10/site-packages/yaml/representer.py:48\u001b[0m, in \u001b[0;36mBaseRepresenter.represent_data\u001b[0;34m(self, data)\u001b[0m\n\u001b[1;32m     46\u001b[0m data_types \u001b[38;5;241m=\u001b[39m \u001b[38;5;28mtype\u001b[39m(data)\u001b[38;5;241m.\u001b[39m\u001b[38;5;18m__mro__\u001b[39m\n\u001b[1;32m     47\u001b[0m \u001b[38;5;28;01mif\u001b[39;00m data_types[\u001b[38;5;241m0\u001b[39m] \u001b[38;5;129;01min\u001b[39;00m \u001b[38;5;28mself\u001b[39m\u001b[38;5;241m.\u001b[39myaml_representers:\n\u001b[0;32m---> 48\u001b[0m     node \u001b[38;5;241m=\u001b[39m \u001b[38;5;28;43mself\u001b[39;49m\u001b[38;5;241;43m.\u001b[39;49m\u001b[43myaml_representers\u001b[49m\u001b[43m[\u001b[49m\u001b[43mdata_types\u001b[49m\u001b[43m[\u001b[49m\u001b[38;5;241;43m0\u001b[39;49m\u001b[43m]\u001b[49m\u001b[43m]\u001b[49m\u001b[43m(\u001b[49m\u001b[38;5;28;43mself\u001b[39;49m\u001b[43m,\u001b[49m\u001b[43m \u001b[49m\u001b[43mdata\u001b[49m\u001b[43m)\u001b[49m\n\u001b[1;32m     49\u001b[0m \u001b[38;5;28;01melse\u001b[39;00m:\n\u001b[1;32m     50\u001b[0m     \u001b[38;5;28;01mfor\u001b[39;00m data_type \u001b[38;5;129;01min\u001b[39;00m data_types:\n",
      "File \u001b[0;32m~/miniconda3/envs/stenv-py3.10-2023.04.05/lib/python3.10/site-packages/astropy/table/meta.py:152\u001b[0m, in \u001b[0;36m_repr_odict\u001b[0;34m(dumper, data)\u001b[0m\n\u001b[1;32m    139\u001b[0m \u001b[38;5;28;01mdef\u001b[39;00m \u001b[38;5;21m_repr_odict\u001b[39m(dumper, data):\n\u001b[1;32m    140\u001b[0m \u001b[38;5;250m    \u001b[39m\u001b[38;5;124;03m\"\"\"\u001b[39;00m\n\u001b[1;32m    141\u001b[0m \u001b[38;5;124;03m    Represent OrderedDict in yaml dump.\u001b[39;00m\n\u001b[1;32m    142\u001b[0m \n\u001b[0;32m   (...)\u001b[0m\n\u001b[1;32m    150\u001b[0m \u001b[38;5;124;03m    '!!omap [foo: bar, mumble: quux, baz: gorp]\\\\n'\u001b[39;00m\n\u001b[1;32m    151\u001b[0m \u001b[38;5;124;03m    \"\"\"\u001b[39;00m\n\u001b[0;32m--> 152\u001b[0m     \u001b[38;5;28;01mreturn\u001b[39;00m \u001b[43m_repr_pairs\u001b[49m\u001b[43m(\u001b[49m\u001b[43mdumper\u001b[49m\u001b[43m,\u001b[49m\u001b[43m \u001b[49m\u001b[38;5;124;43m\"\u001b[39;49m\u001b[38;5;124;43mtag:yaml.org,2002:omap\u001b[39;49m\u001b[38;5;124;43m\"\u001b[39;49m\u001b[43m,\u001b[49m\u001b[43m \u001b[49m\u001b[43mdata\u001b[49m\u001b[38;5;241;43m.\u001b[39;49m\u001b[43mitems\u001b[49m\u001b[43m(\u001b[49m\u001b[43m)\u001b[49m\u001b[43m)\u001b[49m\n",
      "File \u001b[0;32m~/miniconda3/envs/stenv-py3.10-2023.04.05/lib/python3.10/site-packages/astropy/table/meta.py:127\u001b[0m, in \u001b[0;36m_repr_pairs\u001b[0;34m(dump, tag, sequence, flow_style)\u001b[0m\n\u001b[1;32m    125\u001b[0m best_style \u001b[38;5;241m=\u001b[39m \u001b[38;5;28;01mTrue\u001b[39;00m\n\u001b[1;32m    126\u001b[0m \u001b[38;5;28;01mfor\u001b[39;00m key, val \u001b[38;5;129;01min\u001b[39;00m sequence:\n\u001b[0;32m--> 127\u001b[0m     item \u001b[38;5;241m=\u001b[39m \u001b[43mdump\u001b[49m\u001b[38;5;241;43m.\u001b[39;49m\u001b[43mrepresent_data\u001b[49m\u001b[43m(\u001b[49m\u001b[43m{\u001b[49m\u001b[43mkey\u001b[49m\u001b[43m:\u001b[49m\u001b[43m \u001b[49m\u001b[43mval\u001b[49m\u001b[43m}\u001b[49m\u001b[43m)\u001b[49m\n\u001b[1;32m    128\u001b[0m     \u001b[38;5;28;01mif\u001b[39;00m \u001b[38;5;129;01mnot\u001b[39;00m (\u001b[38;5;28misinstance\u001b[39m(item, yaml\u001b[38;5;241m.\u001b[39mScalarNode) \u001b[38;5;129;01mand\u001b[39;00m \u001b[38;5;129;01mnot\u001b[39;00m item\u001b[38;5;241m.\u001b[39mstyle):\n\u001b[1;32m    129\u001b[0m         best_style \u001b[38;5;241m=\u001b[39m \u001b[38;5;28;01mFalse\u001b[39;00m\n",
      "File \u001b[0;32m~/miniconda3/envs/stenv-py3.10-2023.04.05/lib/python3.10/site-packages/yaml/representer.py:48\u001b[0m, in \u001b[0;36mBaseRepresenter.represent_data\u001b[0;34m(self, data)\u001b[0m\n\u001b[1;32m     46\u001b[0m data_types \u001b[38;5;241m=\u001b[39m \u001b[38;5;28mtype\u001b[39m(data)\u001b[38;5;241m.\u001b[39m\u001b[38;5;18m__mro__\u001b[39m\n\u001b[1;32m     47\u001b[0m \u001b[38;5;28;01mif\u001b[39;00m data_types[\u001b[38;5;241m0\u001b[39m] \u001b[38;5;129;01min\u001b[39;00m \u001b[38;5;28mself\u001b[39m\u001b[38;5;241m.\u001b[39myaml_representers:\n\u001b[0;32m---> 48\u001b[0m     node \u001b[38;5;241m=\u001b[39m \u001b[38;5;28;43mself\u001b[39;49m\u001b[38;5;241;43m.\u001b[39;49m\u001b[43myaml_representers\u001b[49m\u001b[43m[\u001b[49m\u001b[43mdata_types\u001b[49m\u001b[43m[\u001b[49m\u001b[38;5;241;43m0\u001b[39;49m\u001b[43m]\u001b[49m\u001b[43m]\u001b[49m\u001b[43m(\u001b[49m\u001b[38;5;28;43mself\u001b[39;49m\u001b[43m,\u001b[49m\u001b[43m \u001b[49m\u001b[43mdata\u001b[49m\u001b[43m)\u001b[49m\n\u001b[1;32m     49\u001b[0m \u001b[38;5;28;01melse\u001b[39;00m:\n\u001b[1;32m     50\u001b[0m     \u001b[38;5;28;01mfor\u001b[39;00m data_type \u001b[38;5;129;01min\u001b[39;00m data_types:\n",
      "File \u001b[0;32m~/miniconda3/envs/stenv-py3.10-2023.04.05/lib/python3.10/site-packages/yaml/representer.py:207\u001b[0m, in \u001b[0;36mSafeRepresenter.represent_dict\u001b[0;34m(self, data)\u001b[0m\n\u001b[1;32m    206\u001b[0m \u001b[38;5;28;01mdef\u001b[39;00m \u001b[38;5;21mrepresent_dict\u001b[39m(\u001b[38;5;28mself\u001b[39m, data):\n\u001b[0;32m--> 207\u001b[0m     \u001b[38;5;28;01mreturn\u001b[39;00m \u001b[38;5;28;43mself\u001b[39;49m\u001b[38;5;241;43m.\u001b[39;49m\u001b[43mrepresent_mapping\u001b[49m\u001b[43m(\u001b[49m\u001b[38;5;124;43m'\u001b[39;49m\u001b[38;5;124;43mtag:yaml.org,2002:map\u001b[39;49m\u001b[38;5;124;43m'\u001b[39;49m\u001b[43m,\u001b[49m\u001b[43m \u001b[49m\u001b[43mdata\u001b[49m\u001b[43m)\u001b[49m\n",
      "File \u001b[0;32m~/miniconda3/envs/stenv-py3.10-2023.04.05/lib/python3.10/site-packages/astropy/table/meta.py:366\u001b[0m, in \u001b[0;36mget_yaml_from_header.<locals>.TableDumper.represent_mapping\u001b[0;34m(self, tag, mapping, flow_style)\u001b[0m\n\u001b[1;32m    364\u001b[0m \u001b[38;5;28;01mfor\u001b[39;00m item_key, item_value \u001b[38;5;129;01min\u001b[39;00m mapping:\n\u001b[1;32m    365\u001b[0m     node_key \u001b[38;5;241m=\u001b[39m \u001b[38;5;28mself\u001b[39m\u001b[38;5;241m.\u001b[39mrepresent_data(item_key)\n\u001b[0;32m--> 366\u001b[0m     node_value \u001b[38;5;241m=\u001b[39m \u001b[38;5;28;43mself\u001b[39;49m\u001b[38;5;241;43m.\u001b[39;49m\u001b[43mrepresent_data\u001b[49m\u001b[43m(\u001b[49m\u001b[43mitem_value\u001b[49m\u001b[43m)\u001b[49m\n\u001b[1;32m    367\u001b[0m     \u001b[38;5;28;01mif\u001b[39;00m \u001b[38;5;129;01mnot\u001b[39;00m (\u001b[38;5;28misinstance\u001b[39m(node_key, yaml\u001b[38;5;241m.\u001b[39mScalarNode) \u001b[38;5;129;01mand\u001b[39;00m \u001b[38;5;129;01mnot\u001b[39;00m node_key\u001b[38;5;241m.\u001b[39mstyle):\n\u001b[1;32m    368\u001b[0m         best_style \u001b[38;5;241m=\u001b[39m \u001b[38;5;28;01mFalse\u001b[39;00m\n",
      "File \u001b[0;32m~/miniconda3/envs/stenv-py3.10-2023.04.05/lib/python3.10/site-packages/yaml/representer.py:58\u001b[0m, in \u001b[0;36mBaseRepresenter.represent_data\u001b[0;34m(self, data)\u001b[0m\n\u001b[1;32m     56\u001b[0m     node \u001b[38;5;241m=\u001b[39m \u001b[38;5;28mself\u001b[39m\u001b[38;5;241m.\u001b[39myaml_multi_representers[\u001b[38;5;28;01mNone\u001b[39;00m](\u001b[38;5;28mself\u001b[39m, data)\n\u001b[1;32m     57\u001b[0m \u001b[38;5;28;01melif\u001b[39;00m \u001b[38;5;28;01mNone\u001b[39;00m \u001b[38;5;129;01min\u001b[39;00m \u001b[38;5;28mself\u001b[39m\u001b[38;5;241m.\u001b[39myaml_representers:\n\u001b[0;32m---> 58\u001b[0m     node \u001b[38;5;241m=\u001b[39m \u001b[38;5;28;43mself\u001b[39;49m\u001b[38;5;241;43m.\u001b[39;49m\u001b[43myaml_representers\u001b[49m\u001b[43m[\u001b[49m\u001b[38;5;28;43;01mNone\u001b[39;49;00m\u001b[43m]\u001b[49m\u001b[43m(\u001b[49m\u001b[38;5;28;43mself\u001b[39;49m\u001b[43m,\u001b[49m\u001b[43m \u001b[49m\u001b[43mdata\u001b[49m\u001b[43m)\u001b[49m\n\u001b[1;32m     59\u001b[0m \u001b[38;5;28;01melse\u001b[39;00m:\n\u001b[1;32m     60\u001b[0m     node \u001b[38;5;241m=\u001b[39m ScalarNode(\u001b[38;5;28;01mNone\u001b[39;00m, \u001b[38;5;28mstr\u001b[39m(data))\n",
      "File \u001b[0;32m~/miniconda3/envs/stenv-py3.10-2023.04.05/lib/python3.10/site-packages/yaml/representer.py:231\u001b[0m, in \u001b[0;36mSafeRepresenter.represent_undefined\u001b[0;34m(self, data)\u001b[0m\n\u001b[1;32m    230\u001b[0m \u001b[38;5;28;01mdef\u001b[39;00m \u001b[38;5;21mrepresent_undefined\u001b[39m(\u001b[38;5;28mself\u001b[39m, data):\n\u001b[0;32m--> 231\u001b[0m     \u001b[38;5;28;01mraise\u001b[39;00m RepresenterError(\u001b[38;5;124m\"\u001b[39m\u001b[38;5;124mcannot represent an object\u001b[39m\u001b[38;5;124m\"\u001b[39m, data)\n",
      "\u001b[0;31mRepresenterError\u001b[0m: ('cannot represent an object', 'JWST')"
     ]
    }
   ],
   "source": [
    "# Compute raw contrast.\n",
    "analysistools.raw_contrast(star_photometry_txt)\n"
   ]
  },
  {
   "cell_type": "code",
   "execution_count": 10,
   "id": "5bfb65d9",
   "metadata": {},
   "outputs": [
    {
     "name": "stdout",
     "output_type": "stream",
     "text": [
      "Automatic pdb calling has been turned ON\n"
     ]
    }
   ],
   "source": [
    "%pdb"
   ]
  },
  {
   "cell_type": "markdown",
   "id": "7aeb7190",
   "metadata": {},
   "source": [
    "The output of these is a large set of files within the `rawcon` subdir of the data directory. This includes PDFs showing the reduced images, and plots of contrast, and also saved contrast curves. Currently these are saved as `.npy` numpy data dump files. "
   ]
  },
  {
   "cell_type": "code",
   "execution_count": 19,
   "id": "c61242f6",
   "metadata": {},
   "outputs": [
    {
     "name": "stdout",
     "output_type": "stream",
     "text": [
      "ADI+RDI_NANNU1_NSUBS1_JWST_NIRCAM_NRCALONG_F250M_MASKRND_MASKA335R_SUB320A335R-KLmodes-all_cons.npy\r\n",
      "ADI+RDI_NANNU1_NSUBS1_JWST_NIRCAM_NRCALONG_F250M_MASKRND_MASKA335R_SUB320A335R-KLmodes-all_masked.pdf\r\n",
      "ADI+RDI_NANNU1_NSUBS1_JWST_NIRCAM_NRCALONG_F250M_MASKRND_MASKA335R_SUB320A335R-KLmodes-all_rawcon.pdf\r\n",
      "ADI+RDI_NANNU1_NSUBS1_JWST_NIRCAM_NRCALONG_F250M_MASKRND_MASKA335R_SUB320A335R-KLmodes-all_seps.npy\r\n",
      "ADI+RDI_NANNU1_NSUBS1_JWST_NIRCAM_NRCALONG_F300M_MASKRND_MASKA335R_SUB320A335R-KLmodes-all_cons.npy\r\n",
      "ADI+RDI_NANNU1_NSUBS1_JWST_NIRCAM_NRCALONG_F300M_MASKRND_MASKA335R_SUB320A335R-KLmodes-all_masked.pdf\r\n",
      "ADI+RDI_NANNU1_NSUBS1_JWST_NIRCAM_NRCALONG_F300M_MASKRND_MASKA335R_SUB320A335R-KLmodes-all_rawcon.pdf\r\n",
      "ADI+RDI_NANNU1_NSUBS1_JWST_NIRCAM_NRCALONG_F300M_MASKRND_MASKA335R_SUB320A335R-KLmodes-all_seps.npy\r\n",
      "ADI+RDI_NANNU1_NSUBS1_JWST_NIRCAM_NRCALONG_F356W_MASKRND_MASKA335R_SUB320A335R-KLmodes-all_cons.npy\r\n",
      "ADI+RDI_NANNU1_NSUBS1_JWST_NIRCAM_NRCALONG_F356W_MASKRND_MASKA335R_SUB320A335R-KLmodes-all_masked.pdf\r\n",
      "ADI+RDI_NANNU1_NSUBS1_JWST_NIRCAM_NRCALONG_F356W_MASKRND_MASKA335R_SUB320A335R-KLmodes-all_rawcon.pdf\r\n",
      "ADI+RDI_NANNU1_NSUBS1_JWST_NIRCAM_NRCALONG_F356W_MASKRND_MASKA335R_SUB320A335R-KLmodes-all_seps.npy\r\n",
      "ADI+RDI_NANNU1_NSUBS1_JWST_NIRCAM_NRCALONG_F410M_MASKRND_MASKA335R_SUB320A335R-KLmodes-all_cons.npy\r\n",
      "ADI+RDI_NANNU1_NSUBS1_JWST_NIRCAM_NRCALONG_F410M_MASKRND_MASKA335R_SUB320A335R-KLmodes-all_masked.pdf\r\n",
      "ADI+RDI_NANNU1_NSUBS1_JWST_NIRCAM_NRCALONG_F410M_MASKRND_MASKA335R_SUB320A335R-KLmodes-all_rawcon.pdf\r\n",
      "ADI+RDI_NANNU1_NSUBS1_JWST_NIRCAM_NRCALONG_F410M_MASKRND_MASKA335R_SUB320A335R-KLmodes-all_seps.npy\r\n",
      "ADI+RDI_NANNU1_NSUBS1_JWST_NIRCAM_NRCALONG_F444W_MASKRND_MASKA335R_SUB320A335R-KLmodes-all_cons.npy\r\n",
      "ADI+RDI_NANNU1_NSUBS1_JWST_NIRCAM_NRCALONG_F444W_MASKRND_MASKA335R_SUB320A335R-KLmodes-all_masked.pdf\r\n",
      "ADI+RDI_NANNU1_NSUBS1_JWST_NIRCAM_NRCALONG_F444W_MASKRND_MASKA335R_SUB320A335R-KLmodes-all_rawcon.pdf\r\n",
      "ADI+RDI_NANNU1_NSUBS1_JWST_NIRCAM_NRCALONG_F444W_MASKRND_MASKA335R_SUB320A335R-KLmodes-all_seps.npy\r\n",
      "ADI+RDI_NANNU5_NSUBS1_JWST_NIRCAM_NRCALONG_F250M_MASKRND_MASKA335R_SUB320A335R-KLmodes-all_cons.npy\r\n",
      "ADI+RDI_NANNU5_NSUBS1_JWST_NIRCAM_NRCALONG_F250M_MASKRND_MASKA335R_SUB320A335R-KLmodes-all_masked.pdf\r\n",
      "ADI+RDI_NANNU5_NSUBS1_JWST_NIRCAM_NRCALONG_F250M_MASKRND_MASKA335R_SUB320A335R-KLmodes-all_rawcon.pdf\r\n",
      "ADI+RDI_NANNU5_NSUBS1_JWST_NIRCAM_NRCALONG_F250M_MASKRND_MASKA335R_SUB320A335R-KLmodes-all_seps.npy\r\n",
      "ADI+RDI_NANNU5_NSUBS1_JWST_NIRCAM_NRCALONG_F300M_MASKRND_MASKA335R_SUB320A335R-KLmodes-all_cons.npy\r\n",
      "ADI+RDI_NANNU5_NSUBS1_JWST_NIRCAM_NRCALONG_F300M_MASKRND_MASKA335R_SUB320A335R-KLmodes-all_masked.pdf\r\n",
      "ADI+RDI_NANNU5_NSUBS1_JWST_NIRCAM_NRCALONG_F300M_MASKRND_MASKA335R_SUB320A335R-KLmodes-all_rawcon.pdf\r\n",
      "ADI+RDI_NANNU5_NSUBS1_JWST_NIRCAM_NRCALONG_F300M_MASKRND_MASKA335R_SUB320A335R-KLmodes-all_seps.npy\r\n",
      "ADI+RDI_NANNU5_NSUBS1_JWST_NIRCAM_NRCALONG_F356W_MASKRND_MASKA335R_SUB320A335R-KLmodes-all_cons.npy\r\n",
      "ADI+RDI_NANNU5_NSUBS1_JWST_NIRCAM_NRCALONG_F356W_MASKRND_MASKA335R_SUB320A335R-KLmodes-all_masked.pdf\r\n",
      "ADI+RDI_NANNU5_NSUBS1_JWST_NIRCAM_NRCALONG_F356W_MASKRND_MASKA335R_SUB320A335R-KLmodes-all_rawcon.pdf\r\n",
      "ADI+RDI_NANNU5_NSUBS1_JWST_NIRCAM_NRCALONG_F356W_MASKRND_MASKA335R_SUB320A335R-KLmodes-all_seps.npy\r\n",
      "ADI+RDI_NANNU5_NSUBS1_JWST_NIRCAM_NRCALONG_F410M_MASKRND_MASKA335R_SUB320A335R-KLmodes-all_cons.npy\r\n",
      "ADI+RDI_NANNU5_NSUBS1_JWST_NIRCAM_NRCALONG_F410M_MASKRND_MASKA335R_SUB320A335R-KLmodes-all_masked.pdf\r\n",
      "ADI+RDI_NANNU5_NSUBS1_JWST_NIRCAM_NRCALONG_F410M_MASKRND_MASKA335R_SUB320A335R-KLmodes-all_rawcon.pdf\r\n",
      "ADI+RDI_NANNU5_NSUBS1_JWST_NIRCAM_NRCALONG_F410M_MASKRND_MASKA335R_SUB320A335R-KLmodes-all_seps.npy\r\n",
      "ADI+RDI_NANNU5_NSUBS1_JWST_NIRCAM_NRCALONG_F444W_MASKRND_MASKA335R_SUB320A335R-KLmodes-all_cons.npy\r\n",
      "ADI+RDI_NANNU5_NSUBS1_JWST_NIRCAM_NRCALONG_F444W_MASKRND_MASKA335R_SUB320A335R-KLmodes-all_masked.pdf\r\n",
      "ADI+RDI_NANNU5_NSUBS1_JWST_NIRCAM_NRCALONG_F444W_MASKRND_MASKA335R_SUB320A335R-KLmodes-all_rawcon.pdf\r\n",
      "ADI+RDI_NANNU5_NSUBS1_JWST_NIRCAM_NRCALONG_F444W_MASKRND_MASKA335R_SUB320A335R-KLmodes-all_seps.npy\r\n",
      "ADI_NANNU1_NSUBS1_JWST_NIRCAM_NRCALONG_F250M_MASKRND_MASKA335R_SUB320A335R-KLmodes-all_cons.npy\r\n",
      "ADI_NANNU1_NSUBS1_JWST_NIRCAM_NRCALONG_F250M_MASKRND_MASKA335R_SUB320A335R-KLmodes-all_masked.pdf\r\n",
      "ADI_NANNU1_NSUBS1_JWST_NIRCAM_NRCALONG_F250M_MASKRND_MASKA335R_SUB320A335R-KLmodes-all_rawcon.pdf\r\n",
      "ADI_NANNU1_NSUBS1_JWST_NIRCAM_NRCALONG_F250M_MASKRND_MASKA335R_SUB320A335R-KLmodes-all_seps.npy\r\n",
      "ADI_NANNU1_NSUBS1_JWST_NIRCAM_NRCALONG_F300M_MASKRND_MASKA335R_SUB320A335R-KLmodes-all_cons.npy\r\n",
      "ADI_NANNU1_NSUBS1_JWST_NIRCAM_NRCALONG_F300M_MASKRND_MASKA335R_SUB320A335R-KLmodes-all_masked.pdf\r\n",
      "ADI_NANNU1_NSUBS1_JWST_NIRCAM_NRCALONG_F300M_MASKRND_MASKA335R_SUB320A335R-KLmodes-all_rawcon.pdf\r\n",
      "ADI_NANNU1_NSUBS1_JWST_NIRCAM_NRCALONG_F300M_MASKRND_MASKA335R_SUB320A335R-KLmodes-all_seps.npy\r\n",
      "ADI_NANNU1_NSUBS1_JWST_NIRCAM_NRCALONG_F356W_MASKRND_MASKA335R_SUB320A335R-KLmodes-all_cons.npy\r\n",
      "ADI_NANNU1_NSUBS1_JWST_NIRCAM_NRCALONG_F356W_MASKRND_MASKA335R_SUB320A335R-KLmodes-all_masked.pdf\r\n",
      "ADI_NANNU1_NSUBS1_JWST_NIRCAM_NRCALONG_F356W_MASKRND_MASKA335R_SUB320A335R-KLmodes-all_rawcon.pdf\r\n",
      "ADI_NANNU1_NSUBS1_JWST_NIRCAM_NRCALONG_F356W_MASKRND_MASKA335R_SUB320A335R-KLmodes-all_seps.npy\r\n",
      "ADI_NANNU1_NSUBS1_JWST_NIRCAM_NRCALONG_F410M_MASKRND_MASKA335R_SUB320A335R-KLmodes-all_cons.npy\r\n",
      "ADI_NANNU1_NSUBS1_JWST_NIRCAM_NRCALONG_F410M_MASKRND_MASKA335R_SUB320A335R-KLmodes-all_masked.pdf\r\n",
      "ADI_NANNU1_NSUBS1_JWST_NIRCAM_NRCALONG_F410M_MASKRND_MASKA335R_SUB320A335R-KLmodes-all_rawcon.pdf\r\n",
      "ADI_NANNU1_NSUBS1_JWST_NIRCAM_NRCALONG_F410M_MASKRND_MASKA335R_SUB320A335R-KLmodes-all_seps.npy\r\n",
      "ADI_NANNU1_NSUBS1_JWST_NIRCAM_NRCALONG_F444W_MASKRND_MASKA335R_SUB320A335R-KLmodes-all_cons.npy\r\n",
      "ADI_NANNU1_NSUBS1_JWST_NIRCAM_NRCALONG_F444W_MASKRND_MASKA335R_SUB320A335R-KLmodes-all_masked.pdf\r\n",
      "ADI_NANNU1_NSUBS1_JWST_NIRCAM_NRCALONG_F444W_MASKRND_MASKA335R_SUB320A335R-KLmodes-all_rawcon.pdf\r\n",
      "ADI_NANNU1_NSUBS1_JWST_NIRCAM_NRCALONG_F444W_MASKRND_MASKA335R_SUB320A335R-KLmodes-all_seps.npy\r\n",
      "ADI_NANNU5_NSUBS1_JWST_NIRCAM_NRCALONG_F250M_MASKRND_MASKA335R_SUB320A335R-KLmodes-all_cons.npy\r\n",
      "ADI_NANNU5_NSUBS1_JWST_NIRCAM_NRCALONG_F250M_MASKRND_MASKA335R_SUB320A335R-KLmodes-all_masked.pdf\r\n",
      "ADI_NANNU5_NSUBS1_JWST_NIRCAM_NRCALONG_F250M_MASKRND_MASKA335R_SUB320A335R-KLmodes-all_rawcon.pdf\r\n",
      "ADI_NANNU5_NSUBS1_JWST_NIRCAM_NRCALONG_F250M_MASKRND_MASKA335R_SUB320A335R-KLmodes-all_seps.npy\r\n",
      "ADI_NANNU5_NSUBS1_JWST_NIRCAM_NRCALONG_F300M_MASKRND_MASKA335R_SUB320A335R-KLmodes-all_cons.npy\r\n",
      "ADI_NANNU5_NSUBS1_JWST_NIRCAM_NRCALONG_F300M_MASKRND_MASKA335R_SUB320A335R-KLmodes-all_masked.pdf\r\n",
      "ADI_NANNU5_NSUBS1_JWST_NIRCAM_NRCALONG_F300M_MASKRND_MASKA335R_SUB320A335R-KLmodes-all_rawcon.pdf\r\n",
      "ADI_NANNU5_NSUBS1_JWST_NIRCAM_NRCALONG_F300M_MASKRND_MASKA335R_SUB320A335R-KLmodes-all_seps.npy\r\n",
      "ADI_NANNU5_NSUBS1_JWST_NIRCAM_NRCALONG_F356W_MASKRND_MASKA335R_SUB320A335R-KLmodes-all_cons.npy\r\n",
      "ADI_NANNU5_NSUBS1_JWST_NIRCAM_NRCALONG_F356W_MASKRND_MASKA335R_SUB320A335R-KLmodes-all_masked.pdf\r\n",
      "ADI_NANNU5_NSUBS1_JWST_NIRCAM_NRCALONG_F356W_MASKRND_MASKA335R_SUB320A335R-KLmodes-all_rawcon.pdf\r\n",
      "ADI_NANNU5_NSUBS1_JWST_NIRCAM_NRCALONG_F356W_MASKRND_MASKA335R_SUB320A335R-KLmodes-all_seps.npy\r\n",
      "ADI_NANNU5_NSUBS1_JWST_NIRCAM_NRCALONG_F410M_MASKRND_MASKA335R_SUB320A335R-KLmodes-all_cons.npy\r\n",
      "ADI_NANNU5_NSUBS1_JWST_NIRCAM_NRCALONG_F410M_MASKRND_MASKA335R_SUB320A335R-KLmodes-all_masked.pdf\r\n",
      "ADI_NANNU5_NSUBS1_JWST_NIRCAM_NRCALONG_F410M_MASKRND_MASKA335R_SUB320A335R-KLmodes-all_rawcon.pdf\r\n",
      "ADI_NANNU5_NSUBS1_JWST_NIRCAM_NRCALONG_F410M_MASKRND_MASKA335R_SUB320A335R-KLmodes-all_seps.npy\r\n",
      "ADI_NANNU5_NSUBS1_JWST_NIRCAM_NRCALONG_F444W_MASKRND_MASKA335R_SUB320A335R-KLmodes-all_cons.npy\r\n",
      "ADI_NANNU5_NSUBS1_JWST_NIRCAM_NRCALONG_F444W_MASKRND_MASKA335R_SUB320A335R-KLmodes-all_masked.pdf\r\n",
      "ADI_NANNU5_NSUBS1_JWST_NIRCAM_NRCALONG_F444W_MASKRND_MASKA335R_SUB320A335R-KLmodes-all_rawcon.pdf\r\n",
      "ADI_NANNU5_NSUBS1_JWST_NIRCAM_NRCALONG_F444W_MASKRND_MASKA335R_SUB320A335R-KLmodes-all_seps.npy\r\n",
      "RDI_NANNU1_NSUBS1_JWST_NIRCAM_NRCALONG_F250M_MASKRND_MASKA335R_SUB320A335R-KLmodes-all_cons.npy\r\n",
      "RDI_NANNU1_NSUBS1_JWST_NIRCAM_NRCALONG_F250M_MASKRND_MASKA335R_SUB320A335R-KLmodes-all_masked.pdf\r\n",
      "RDI_NANNU1_NSUBS1_JWST_NIRCAM_NRCALONG_F250M_MASKRND_MASKA335R_SUB320A335R-KLmodes-all_rawcon.pdf\r\n",
      "RDI_NANNU1_NSUBS1_JWST_NIRCAM_NRCALONG_F250M_MASKRND_MASKA335R_SUB320A335R-KLmodes-all_seps.npy\r\n",
      "RDI_NANNU1_NSUBS1_JWST_NIRCAM_NRCALONG_F300M_MASKRND_MASKA335R_SUB320A335R-KLmodes-all_cons.npy\r\n",
      "RDI_NANNU1_NSUBS1_JWST_NIRCAM_NRCALONG_F300M_MASKRND_MASKA335R_SUB320A335R-KLmodes-all_masked.pdf\r\n",
      "RDI_NANNU1_NSUBS1_JWST_NIRCAM_NRCALONG_F300M_MASKRND_MASKA335R_SUB320A335R-KLmodes-all_rawcon.pdf\r\n",
      "RDI_NANNU1_NSUBS1_JWST_NIRCAM_NRCALONG_F300M_MASKRND_MASKA335R_SUB320A335R-KLmodes-all_seps.npy\r\n",
      "RDI_NANNU1_NSUBS1_JWST_NIRCAM_NRCALONG_F356W_MASKRND_MASKA335R_SUB320A335R-KLmodes-all_cons.npy\r\n",
      "RDI_NANNU1_NSUBS1_JWST_NIRCAM_NRCALONG_F356W_MASKRND_MASKA335R_SUB320A335R-KLmodes-all_masked.pdf\r\n",
      "RDI_NANNU1_NSUBS1_JWST_NIRCAM_NRCALONG_F356W_MASKRND_MASKA335R_SUB320A335R-KLmodes-all_rawcon.pdf\r\n",
      "RDI_NANNU1_NSUBS1_JWST_NIRCAM_NRCALONG_F356W_MASKRND_MASKA335R_SUB320A335R-KLmodes-all_seps.npy\r\n",
      "RDI_NANNU1_NSUBS1_JWST_NIRCAM_NRCALONG_F410M_MASKRND_MASKA335R_SUB320A335R-KLmodes-all_cons.npy\r\n",
      "RDI_NANNU1_NSUBS1_JWST_NIRCAM_NRCALONG_F410M_MASKRND_MASKA335R_SUB320A335R-KLmodes-all_masked.pdf\r\n",
      "RDI_NANNU1_NSUBS1_JWST_NIRCAM_NRCALONG_F410M_MASKRND_MASKA335R_SUB320A335R-KLmodes-all_rawcon.pdf\r\n",
      "RDI_NANNU1_NSUBS1_JWST_NIRCAM_NRCALONG_F410M_MASKRND_MASKA335R_SUB320A335R-KLmodes-all_seps.npy\r\n",
      "RDI_NANNU1_NSUBS1_JWST_NIRCAM_NRCALONG_F444W_MASKRND_MASKA335R_SUB320A335R-KLmodes-all_cons.npy\r\n",
      "RDI_NANNU1_NSUBS1_JWST_NIRCAM_NRCALONG_F444W_MASKRND_MASKA335R_SUB320A335R-KLmodes-all_masked.pdf\r\n",
      "RDI_NANNU1_NSUBS1_JWST_NIRCAM_NRCALONG_F444W_MASKRND_MASKA335R_SUB320A335R-KLmodes-all_rawcon.pdf\r\n",
      "RDI_NANNU1_NSUBS1_JWST_NIRCAM_NRCALONG_F444W_MASKRND_MASKA335R_SUB320A335R-KLmodes-all_seps.npy\r\n",
      "RDI_NANNU5_NSUBS1_JWST_NIRCAM_NRCALONG_F250M_MASKRND_MASKA335R_SUB320A335R-KLmodes-all_cons.npy\r\n",
      "RDI_NANNU5_NSUBS1_JWST_NIRCAM_NRCALONG_F250M_MASKRND_MASKA335R_SUB320A335R-KLmodes-all_masked.pdf\r\n",
      "RDI_NANNU5_NSUBS1_JWST_NIRCAM_NRCALONG_F250M_MASKRND_MASKA335R_SUB320A335R-KLmodes-all_rawcon.pdf\r\n",
      "RDI_NANNU5_NSUBS1_JWST_NIRCAM_NRCALONG_F250M_MASKRND_MASKA335R_SUB320A335R-KLmodes-all_seps.npy\r\n",
      "RDI_NANNU5_NSUBS1_JWST_NIRCAM_NRCALONG_F300M_MASKRND_MASKA335R_SUB320A335R-KLmodes-all_cons.npy\r\n",
      "RDI_NANNU5_NSUBS1_JWST_NIRCAM_NRCALONG_F300M_MASKRND_MASKA335R_SUB320A335R-KLmodes-all_masked.pdf\r\n",
      "RDI_NANNU5_NSUBS1_JWST_NIRCAM_NRCALONG_F300M_MASKRND_MASKA335R_SUB320A335R-KLmodes-all_rawcon.pdf\r\n",
      "RDI_NANNU5_NSUBS1_JWST_NIRCAM_NRCALONG_F300M_MASKRND_MASKA335R_SUB320A335R-KLmodes-all_seps.npy\r\n",
      "RDI_NANNU5_NSUBS1_JWST_NIRCAM_NRCALONG_F356W_MASKRND_MASKA335R_SUB320A335R-KLmodes-all_cons.npy\r\n",
      "RDI_NANNU5_NSUBS1_JWST_NIRCAM_NRCALONG_F356W_MASKRND_MASKA335R_SUB320A335R-KLmodes-all_masked.pdf\r\n",
      "RDI_NANNU5_NSUBS1_JWST_NIRCAM_NRCALONG_F356W_MASKRND_MASKA335R_SUB320A335R-KLmodes-all_rawcon.pdf\r\n",
      "RDI_NANNU5_NSUBS1_JWST_NIRCAM_NRCALONG_F356W_MASKRND_MASKA335R_SUB320A335R-KLmodes-all_seps.npy\r\n",
      "RDI_NANNU5_NSUBS1_JWST_NIRCAM_NRCALONG_F410M_MASKRND_MASKA335R_SUB320A335R-KLmodes-all_cons.npy\r\n",
      "RDI_NANNU5_NSUBS1_JWST_NIRCAM_NRCALONG_F410M_MASKRND_MASKA335R_SUB320A335R-KLmodes-all_masked.pdf\r\n",
      "RDI_NANNU5_NSUBS1_JWST_NIRCAM_NRCALONG_F410M_MASKRND_MASKA335R_SUB320A335R-KLmodes-all_rawcon.pdf\r\n",
      "RDI_NANNU5_NSUBS1_JWST_NIRCAM_NRCALONG_F410M_MASKRND_MASKA335R_SUB320A335R-KLmodes-all_seps.npy\r\n",
      "RDI_NANNU5_NSUBS1_JWST_NIRCAM_NRCALONG_F444W_MASKRND_MASKA335R_SUB320A335R-KLmodes-all_cons.npy\r\n",
      "RDI_NANNU5_NSUBS1_JWST_NIRCAM_NRCALONG_F444W_MASKRND_MASKA335R_SUB320A335R-KLmodes-all_masked.pdf\r\n",
      "RDI_NANNU5_NSUBS1_JWST_NIRCAM_NRCALONG_F444W_MASKRND_MASKA335R_SUB320A335R-KLmodes-all_rawcon.pdf\r\n",
      "RDI_NANNU5_NSUBS1_JWST_NIRCAM_NRCALONG_F444W_MASKRND_MASKA335R_SUB320A335R-KLmodes-all_seps.npy\r\n"
     ]
    }
   ],
   "source": [
    "!ls data_nircam_hd65426/rawcon/"
   ]
  },
  {
   "cell_type": "markdown",
   "id": "6791fcec",
   "metadata": {},
   "source": [
    "## Extract measurements of the companion HD 65426 b"
   ]
  },
  {
   "cell_type": "markdown",
   "id": "7b591602",
   "metadata": {},
   "source": [
    "## Extract measurements of the companion HD 65426 b\n",
    "\n",
    "\n",
    "We need to know where the companion is. Using [whereistheplanet.org](https://whereistheplanet.org) for 2022 Aug 15:\n",
    "```\n",
    "RA Offset = 419.183 +/- 7.853 mas \n",
    "Dec Offset = -697.621 +/- 6.277 mas \n",
    "Separation = 813.875 +/- 6.388 mas \n",
    "PA = 149.014 +/- 0.547 deg \n",
    "Reference: Bowler et al. 2019\n",
    "```\n",
    "We also need to have a model for the stellar photometry for this step. We reuse the same file as above. \n",
    "\n",
    "This step also requires an uncertainty for the stellar photometry, parameterized `mstar_err`. This can be either a simple scalar estimate, like 0.05, or a dictionary giving uncertainty per JWST filter. "
   ]
  },
  {
   "cell_type": "code",
   "execution_count": 13,
   "id": "614ea742",
   "metadata": {},
   "outputs": [],
   "source": [
    "dra = 0.41918\n",
    "ddec = -0.6976\n",
    "contrast = 1e-4\n",
    "\n",
    "comp_estimate = (dra, ddec, contrast)"
   ]
  },
  {
   "cell_type": "code",
   "execution_count": 14,
   "id": "ad09b6b5",
   "metadata": {},
   "outputs": [],
   "source": [
    "mstar_err = {'F250M': 0.054,\n",
    "             'F300M': 0.046,\n",
    "             'F356M': 0.048,\n",
    "             'F410M': 0.051,\n",
    "             'F444W': 0.054,\n",
    "             'F1140C': 0.038,\n",
    "             'F1550C': 0.072}"
   ]
  },
  {
   "cell_type": "code",
   "execution_count": 15,
   "id": "792621e7",
   "metadata": {},
   "outputs": [
    {
     "name": "stdout",
     "output_type": "stream",
     "text": [
      "[spaceKLIP.analysistools:INFO] --> Concatenation JWST_NIRCAM_NRCALONG_F250M_MASKRND_MASKA335R_SUB320A335R\n",
      "Begin align and scale images for each wavelength\n",
      "Align and scale finished\n",
      "Starting KLIP for sector 1/1 with an area of 84051.43713724684 pix^2\n",
      "Time spent on last sector: 0s\n",
      "Time spent since beginning: 0s\n",
      "First sector: Can't predict remaining time\n",
      "\n",
      "Closing threadpool\n",
      "Writing KLIPed Images to directory /Users/mperrin/Dropbox (Personal)/Documents/software/git/spaceKLIP/docs/source/tutorials/data_nircam_hd65426/companions/KL50/C1/KLIP_FM\n",
      "Running burn in\n",
      "Burn in finished. Now sampling posterior\n",
      "MCMC sampler has finished\n"
     ]
    },
    {
     "name": "stderr",
     "output_type": "stream",
     "text": [
      "[      root:WARNING] Too few points to create valid contours\n"
     ]
    },
    {
     "data": {
      "application/vnd.jupyter.widget-view+json": {
       "model_id": "2df40a9fef4d4e0e85546a1e3970e5a1",
       "version_major": 2,
       "version_minor": 0
      },
      "text/plain": [
       "  0%|          | 0/1 [00:00<?, ?it/s]"
      ]
     },
     "metadata": {},
     "output_type": "display_data"
    },
    {
     "name": "stdout",
     "output_type": "stream",
     "text": [
      "Begin align and scale images for each wavelength\n",
      "Align and scale finished\n",
      "Starting KLIP for sector 1/1 with an area of 72005.78550522016 pix^2\n",
      "Time spent on last sector: 0s\n",
      "Time spent since beginning: 0s\n",
      "First sector: Can't predict remaining time\n",
      "\n",
      "Closing threadpool\n",
      "Writing KLIPed Images to directory /Users/mperrin/Dropbox (Personal)/Documents/software/git/spaceKLIP/docs/source/tutorials/data_nircam_hd65426/companions/KL50/C1/KLIP_FM\n",
      "Running burn in\n",
      "Burn in finished. Now sampling posterior\n",
      "MCMC sampler has finished\n"
     ]
    },
    {
     "ename": "SameFileError",
     "evalue": "'data_nircam_hd65426/companions/KL50/C1/PREKLIP/jw01386002001_03106_00001_nrcalong_calints.fits' and 'data_nircam_hd65426/companions/KL50/C1/PREKLIP/jw01386002001_03106_00001_nrcalong_calints.fits' are the same file",
     "output_type": "error",
     "traceback": [
      "\u001b[0;31m---------------------------------------------------------------------------\u001b[0m",
      "\u001b[0;31mSameFileError\u001b[0m                             Traceback (most recent call last)",
      "Cell \u001b[0;32mIn[15], line 1\u001b[0m\n\u001b[0;32m----> 1\u001b[0m \u001b[43manalysistools\u001b[49m\u001b[38;5;241;43m.\u001b[39;49m\u001b[43mextract_companions\u001b[49m\u001b[43m(\u001b[49m\u001b[43mcompanions\u001b[49m\u001b[38;5;241;43m=\u001b[39;49m\u001b[43m[\u001b[49m\u001b[43mcomp_estimate\u001b[49m\u001b[43m]\u001b[49m\u001b[43m,\u001b[49m\n\u001b[1;32m      2\u001b[0m \u001b[43m                                 \u001b[49m\u001b[43mstarfile\u001b[49m\u001b[38;5;241;43m=\u001b[39;49m\u001b[43mstar_photometry_txt\u001b[49m\u001b[43m,\u001b[49m\n\u001b[1;32m      3\u001b[0m \u001b[43m                                 \u001b[49m\u001b[43mmstar_err\u001b[49m\u001b[43m \u001b[49m\u001b[38;5;241;43m=\u001b[39;49m\u001b[43m \u001b[49m\u001b[38;5;241;43m0\u001b[39;49m\u001b[43m)\u001b[49m\n",
      "File \u001b[0;32m~/Dropbox (Personal)/Documents/software/git/spaceKLIP/spaceKLIP/analysistools.py:1022\u001b[0m, in \u001b[0;36mAnalysisTools.extract_companions\u001b[0;34m(self, companions, starfile, mstar_err, spectral_type, klmode, date, use_fm_psf, highpass, fitmethod, fitkernel, subtract, inject, overwrite, subdir)\u001b[0m\n\u001b[1;32m   1020\u001b[0m     src \u001b[38;5;241m=\u001b[39m filepath\n\u001b[1;32m   1021\u001b[0m     dst \u001b[38;5;241m=\u001b[39m os\u001b[38;5;241m.\u001b[39mpath\u001b[38;5;241m.\u001b[39mjoin(output_dir_pk, os\u001b[38;5;241m.\u001b[39mpath\u001b[38;5;241m.\u001b[39msplit(src)[\u001b[38;5;241m1\u001b[39m])\n\u001b[0;32m-> 1022\u001b[0m     \u001b[43mshutil\u001b[49m\u001b[38;5;241;43m.\u001b[39;49m\u001b[43mcopy\u001b[49m\u001b[43m(\u001b[49m\u001b[43msrc\u001b[49m\u001b[43m,\u001b[49m\u001b[43m \u001b[49m\u001b[43mdst\u001b[49m\u001b[43m)\u001b[49m\n\u001b[1;32m   1023\u001b[0m \u001b[38;5;28;01mfor\u001b[39;00m psflib_filepath \u001b[38;5;129;01min\u001b[39;00m psflib_filepaths:\n\u001b[1;32m   1024\u001b[0m     src \u001b[38;5;241m=\u001b[39m psflib_filepath\n",
      "File \u001b[0;32m~/miniconda3/envs/stenv-py3.10-2023.04.05/lib/python3.10/shutil.py:417\u001b[0m, in \u001b[0;36mcopy\u001b[0;34m(src, dst, follow_symlinks)\u001b[0m\n\u001b[1;32m    415\u001b[0m \u001b[38;5;28;01mif\u001b[39;00m os\u001b[38;5;241m.\u001b[39mpath\u001b[38;5;241m.\u001b[39misdir(dst):\n\u001b[1;32m    416\u001b[0m     dst \u001b[38;5;241m=\u001b[39m os\u001b[38;5;241m.\u001b[39mpath\u001b[38;5;241m.\u001b[39mjoin(dst, os\u001b[38;5;241m.\u001b[39mpath\u001b[38;5;241m.\u001b[39mbasename(src))\n\u001b[0;32m--> 417\u001b[0m \u001b[43mcopyfile\u001b[49m\u001b[43m(\u001b[49m\u001b[43msrc\u001b[49m\u001b[43m,\u001b[49m\u001b[43m \u001b[49m\u001b[43mdst\u001b[49m\u001b[43m,\u001b[49m\u001b[43m \u001b[49m\u001b[43mfollow_symlinks\u001b[49m\u001b[38;5;241;43m=\u001b[39;49m\u001b[43mfollow_symlinks\u001b[49m\u001b[43m)\u001b[49m\n\u001b[1;32m    418\u001b[0m copymode(src, dst, follow_symlinks\u001b[38;5;241m=\u001b[39mfollow_symlinks)\n\u001b[1;32m    419\u001b[0m \u001b[38;5;28;01mreturn\u001b[39;00m dst\n",
      "File \u001b[0;32m~/miniconda3/envs/stenv-py3.10-2023.04.05/lib/python3.10/shutil.py:234\u001b[0m, in \u001b[0;36mcopyfile\u001b[0;34m(src, dst, follow_symlinks)\u001b[0m\n\u001b[1;32m    231\u001b[0m sys\u001b[38;5;241m.\u001b[39maudit(\u001b[38;5;124m\"\u001b[39m\u001b[38;5;124mshutil.copyfile\u001b[39m\u001b[38;5;124m\"\u001b[39m, src, dst)\n\u001b[1;32m    233\u001b[0m \u001b[38;5;28;01mif\u001b[39;00m _samefile(src, dst):\n\u001b[0;32m--> 234\u001b[0m     \u001b[38;5;28;01mraise\u001b[39;00m SameFileError(\u001b[38;5;124m\"\u001b[39m\u001b[38;5;132;01m{!r}\u001b[39;00m\u001b[38;5;124m and \u001b[39m\u001b[38;5;132;01m{!r}\u001b[39;00m\u001b[38;5;124m are the same file\u001b[39m\u001b[38;5;124m\"\u001b[39m\u001b[38;5;241m.\u001b[39mformat(src, dst))\n\u001b[1;32m    236\u001b[0m file_size \u001b[38;5;241m=\u001b[39m \u001b[38;5;241m0\u001b[39m\n\u001b[1;32m    237\u001b[0m \u001b[38;5;28;01mfor\u001b[39;00m i, fn \u001b[38;5;129;01min\u001b[39;00m \u001b[38;5;28menumerate\u001b[39m([src, dst]):\n",
      "\u001b[0;31mSameFileError\u001b[0m: 'data_nircam_hd65426/companions/KL50/C1/PREKLIP/jw01386002001_03106_00001_nrcalong_calints.fits' and 'data_nircam_hd65426/companions/KL50/C1/PREKLIP/jw01386002001_03106_00001_nrcalong_calints.fits' are the same file"
     ]
    }
   ],
   "source": [
    "analysistools.extract_companions(companions=[comp_estimate],\n",
    "                                 starfile=star_photometry_txt,\n",
    "                                 mstar_err = 0)"
   ]
  },
  {
   "cell_type": "code",
   "execution_count": 14,
   "id": "66f34121",
   "metadata": {},
   "outputs": [],
   "source": [
    "!open## Extract measurements of the companion HD 65426 b\n",
    "\n",
    "\n",
    "We need to know where the companion is. Using [whereistheplanet.org](https://whereistheplanet.org) for 2022 Aug 15:\n",
    "```\n",
    "RA Offset = 419.183 +/- 7.853 mas \n",
    "Dec Offset = -697.621 +/- 6.277 mas \n",
    "Separation = 813.875 +/- 6.388 mas \n",
    "PA = 149.014 +/- 0.547 deg \n",
    "Reference: Bowler et al. 2019\n",
    "```\n",
    "We also need to have a model for the stellar photometry for this step. We reuse the same file as above. \n",
    "\n",
    "This step also requires an uncertainty for the stellar photometry, parameterized `mstar_err`. This can be either a simple scalar estimate, like 0.05, or a dictionary giving uncertainty per JWST filter. \n",
    "\n",
    "dra = 0.41918\n",
    "ddec = -0.6976\n",
    "contrast = 1e-4\n",
    "\n",
    "comp_estimate = (dra, ddec, contrast)\n",
    "\n",
    "mstar_err = {'F250M': 0.054,\n",
    "             'F300M': 0.046,\n",
    "             'F356M': 0.048,\n",
    "             'F410M': 0.051,\n",
    "             'F444W': 0.054,\n",
    "             'F1140C': 0.038,\n",
    "             'F1550C': 0.072}\n",
    "\n",
    "analysistools.extract_companions(companions=comp_estimate,\n",
    "                                 starfile=star_photometry_txt,\n",
    "                                 mstar_err = mstar_err) data_nircam_hd65426/rawcon"
   ]
  },
  {
   "cell_type": "code",
   "execution_count": null,
   "id": "63f4365b",
   "metadata": {},
   "outputs": [],
   "source": []
  }
 ],
 "metadata": {
  "kernelspec": {
   "display_name": "Python 3 (ipykernel)",
   "language": "python",
   "name": "python3"
  },
  "language_info": {
   "codemirror_mode": {
    "name": "ipython",
    "version": 3
   },
   "file_extension": ".py",
   "mimetype": "text/x-python",
   "name": "python",
   "nbconvert_exporter": "python",
   "pygments_lexer": "ipython3",
<<<<<<< HEAD
   "version": "3.10.10"
=======
   "version": "3.11.4"
>>>>>>> refs/remotes/origin/more_docs_for_v2
  }
 },
 "nbformat": 4,
 "nbformat_minor": 5
}
